{
 "cells": [
  {
   "cell_type": "code",
   "execution_count": 1,
   "id": "5893e649",
   "metadata": {},
   "outputs": [],
   "source": [
    "import os.path, sys\n",
    "\n",
    "import numpy as np\n",
    "import pandas as pd\n",
    "\n",
    "from sklearn.preprocessing import OneHotEncoder\n",
    "\n",
    "import Bio.PDB, warnings\n",
    "from Bio import BiopythonWarning\n",
    "warnings.simplefilter('ignore', BiopythonWarning)\n",
    "\n",
    "from joblib import Parallel, delayed\n",
    "import timeit\n",
    "\n",
    "import matplotlib.pyplot as plt\n",
    "\n",
    "# # --- Import our Code ---# #\n",
    "#import emachine as EM\n",
    "from direct_info import direct_info\n",
    "\n",
    "import expectation_reflection as ER\n",
    "# import data processing and general DCA_ER tools\n",
    "from data_processing import data_processing_msa2pdb\n",
    "import ecc_tools as tools\n",
    "from pathlib import Path\n",
    "np.random.seed(1)\n",
    "\n",
    "from Bio.PDB import *\n",
    "\n",
    "#from Bio.SubsMat.MatrixInfo import blosum62\n",
    "import pickle"
   ]
  },
  {
   "cell_type": "code",
   "execution_count": 2,
   "id": "07bca855",
   "metadata": {},
   "outputs": [],
   "source": [
    "create_new = True\n",
    "printing = True\n",
    "removing_cols = True\n",
    "\n",
    "\n",
    "data_path = Path('/data/cresswellclayec/DCA_ER/Pfam-A.full')\n",
    "data_path = Path('/data/cresswellclayec/Pfam-A.full')\n",
    "\n",
    "# Define data directories\n",
    "DCA_ER_dir = '/data/cresswellclayec/DCA_ER' # Set DCA_ER directory\n",
    "biowulf_dir = '%s/biowulf_full' % DCA_ER_dir\n",
    "\n",
    "out_dir = '%s/protein_data/di/' % biowulf_dir\n",
    "processed_data_dir = \"%s/protein_data/data_processing_output\" % biowulf_dir\n",
    "pdb_dir = '%s/protein_data/pdb_data/' % biowulf_dir\n",
    "\n",
    "\n",
    "pfam_dir = \"/fdb/fastadb/pfam\"\n",
    "\n",
    "from data_processing import pdb2msa, data_processing_pdb2msa\n",
    "\n",
    "\n",
    "import gzip, shutil\n",
    "def gunzip(file_path, output_path):\n",
    "    print('Unzipping %s to %s' % (file_path, output_path))\n",
    "    with gzip.open(file_path,\"rb\") as f_in, open(output_path,\"wb\") as f_out:\n",
    "        shutil.copyfileobj(f_in, f_out)\n",
    "\n",
    "\n",
    "n_cpus = 20\n",
    "pdb_id = '1zdr'\n",
    "pdb_id = '4qt0'\n",
    "pdb_id = '5r1k'\n"
   ]
  },
  {
   "cell_type": "code",
   "execution_count": 3,
   "id": "91a71d4d",
   "metadata": {},
   "outputs": [
    {
     "name": "stdout",
     "output_type": "stream",
     "text": [
      "Unnamed: 0                                                           0\n",
      "PDB ID                                                            5r1k\n",
      "Chain                                                                A\n",
      "Polypeptide Index                                                    0\n",
      "Pfam                                                           PF12134\n",
      "accession                                                   PF12134.11\n",
      "class                                                           Domain\n",
      "id                                                       PRP8_domainIV\n",
      "type                                                            Pfam-A\n",
      "PDB Sequence         GAMNSSNYAELFNNDIKLFVDDTNVYRVTVHKTFEGNVATKAINGC...\n",
      "ali_end                                                            228\n",
      "ali_start                                                            3\n",
      "bitscore                                                        407.48\n",
      "end                                                                229\n",
      "cond_evalue                                                        0.0\n",
      "ind_evalue                                                         0.0\n",
      "evidence                                                    hmmer v3.0\n",
      "hmm_end                                                            229\n",
      "hmm_start                                                            4\n",
      "start                                                                1\n",
      "Name: 0, dtype: object\n"
     ]
    }
   ],
   "source": [
    "prody_df = pd.read_csv('%s/%s_pdb_df.csv' % (pdb_dir, pdb_id))\n",
    "pdb2msa_row  = prody_df.iloc[0]\n",
    "#try:\n",
    "print(pdb2msa_row)\n",
    "pfam_id = pdb2msa_row['Pfam']\n",
    "pdb_id = pdb2msa_row['PDB ID']\n",
    "pdb_chain = pdb2msa_row['Chain']\n",
    "\n",
    "ref_outfile = Path(processed_data_dir, '%s_ref.fa' % pfam_id)\n",
    "\n",
    "pfam_dimensions_file = \"%s/%s_%s_pfam_dimensions.npy\" % (processed_data_dir, pdb_id, pfam_id)\n",
    "pfam_dimensions = np.load(pfam_dimensions_file)\n",
    "if len(pfam_dimensions)==7:\n",
    "    [n_col, n_seq, m_eff, ct_ER, ct_MF, ct_PMF, ct_PLM] = pfam_dimensions\n",
    "elif len(pfam_dimensions)==6: # new pfam_dimensions created in run_method_comparison. we dont need MF..\n",
    "    [n_col, n_seq, m_eff, ct_ER, ct_PMF, ct_PLM] = pfam_dimensions\n",
    "elif len(pfam_dimensions)==3:\n",
    "    [n_col, n_seq, m_eff] = pfam_dimensions\n",
    "\n",
    "pdb_id = pdb2msa_row['PDB ID']\n",
    "pfam_id = pdb2msa_row['Pfam']\n",
    "# update Prody search DF (use same filename as pdb2msa() in data_processing\n",
    "\n",
    "# LOAD MSA"
   ]
  },
  {
   "cell_type": "code",
   "execution_count": 4,
   "id": "1c3d8c16",
   "metadata": {},
   "outputs": [],
   "source": [
    "dp_file = \"%s/%s_%s_dp.pkl\" % (processed_data_dir, pdb_id, pfam_id)\n",
    "if not os.path.exists(dp_file):\n",
    "    print('\\nPDB DF with associated Protein Families\\n', prody_df.loc[:,  [column for column in prody_df.columns if column not in ['locations', 'PDB Sequence']]].head())\n",
    "    print(\"\\n\\nLooping through Prody Search DataFrame:\", prody_df.head())\n",
    "    rows_to_drop = []\n",
    "    for ir, pdb2msa_row in enumerate(prody_df.iterrows()):\n",
    "        print('\\n\\nGetting msa with following pdb2msa entry:\\n', pdb2msa_row)\n",
    "        try:\n",
    "            dp_result =  data_processing_pdb2msa(data_path, prody_df.iloc[pdb2msa_row[0]], gap_seqs=0.2, gap_cols=0.2, prob_low=0.004,\n",
    "                                   conserved_cols=0.8, printing=True, out_dir=processed_data_dir, pdb_dir=pdb_dir, letter_format=False,\n",
    "                                   remove_cols=True, create_new=True)\n",
    "            if dp_result is not None:\n",
    "                [s0, removed_cols, s_index, tpdb, pdb_s_index] = dp_result\n",
    "                break\n",
    "            else:\n",
    "                rows_to_drop.append(ir)\n",
    "                continue\n",
    "        except Exception as e:\n",
    "            print('row %d got exception: ' % ir , e)\n",
    "            print('moving on.. ')\n",
    "            pass\n",
    "    with open(dp_file, 'wb') as dp_handle:\n",
    "        pickle.dump(dp_result, dp_handle, protocol=pickle.HIGHEST_PROTOCOL)\n",
    "else:\n",
    "    with open(dp_file, 'rb') as dp_handle:\n",
    "        dp_result = pickle.load(dp_handle)\n",
    "    [s0, removed_cols, s_index, tpdb, pdb_s_index] = dp_result\n"
   ]
  },
  {
   "cell_type": "code",
   "execution_count": 5,
   "id": "7503bf42",
   "metadata": {},
   "outputs": [
    {
     "name": "stdout",
     "output_type": "stream",
     "text": [
      "s0:  (589, 55)\n",
      "s0 seq_wt:  (55, 589)\n"
     ]
    }
   ],
   "source": [
    "s0_seq_wt = np.transpose(s0)\n",
    "print('s0: ', s0.shape)\n",
    "print('s0 seq_wt: ', s0_seq_wt.shape)"
   ]
  },
  {
   "cell_type": "code",
   "execution_count": 27,
   "id": "40955f35",
   "metadata": {},
   "outputs": [
    {
     "name": "stdout",
     "output_type": "stream",
     "text": [
      "Number of residue positions: 589\n",
      "Number of sequences: 55\n",
      "(55, 9533)\n",
      "(589, 381)\n"
     ]
    }
   ],
   "source": [
    "# number of positions\n",
    "n_seq = s0.shape[0]\n",
    "n_var = s0.shape[1]\n",
    "n_seq_T = s0_seq_wt.shape[0]\n",
    "n_var_T = s0_seq_wt.shape[1]\n",
    "\n",
    "print(\"Number of residue positions:\",n_var_T)\n",
    "print(\"Number of sequences:\",n_seq_T)\n",
    "\n",
    "# number of aminoacids at each position\n",
    "mxT = np.array([len(np.unique(s0_seq_wt[:,i])) for i in range(n_seq)])\n",
    "mx = np.array([len(np.unique(s0[:,i])) for i in range(n_var)])\n",
    "\n",
    "mx_cumsum = np.insert(mx.cumsum(),0,0)\n",
    "mx_cumsum_T = np.insert(mxT.cumsum(),0,0)\n",
    "\n",
    "i1i2 = np.stack([mx_cumsum[:-1],mx_cumsum[1:]]).T\n",
    "i1i2_T = np.stack([mx_cumsum_T[:-1],mx_cumsum_T[1:]]).T\n",
    "\n",
    "\n",
    "# number of variables\n",
    "mx_sum = mx.sum()\n",
    "mx_sum_T = mxT.sum()\n",
    "\n",
    "# print(\"Total number of variables\",mx_sum)\n",
    "\n",
    "# number of bias term\n",
    "n_linear = mx_sum - n_seq\n",
    "n_linear_T = mx_sum_T - n_seq_T\n",
    "\n",
    "\n",
    "onehot_encoder = OneHotEncoder(sparse=False,categories='auto')\n",
    "sT = onehot_encoder.fit_transform(s0_seq_wt)\n",
    "print(sT.shape)\n",
    "\n",
    "onehot_encoder = OneHotEncoder(sparse=False,categories='auto')\n",
    "s = onehot_encoder.fit_transform(s0)\n",
    "print(s.shape)"
   ]
  },
  {
   "cell_type": "code",
   "execution_count": 7,
   "id": "92d585ba",
   "metadata": {},
   "outputs": [],
   "source": [
    "# Expectation Reflection\n",
    "#=========================================================================================\n",
    "def predict_w(s,i0,i1i2,niter_max,l2):\n",
    "    #print('i0:',i0)\n",
    "    i1,i2 = i1i2[i0,0],i1i2[i0,1]\n",
    "\n",
    "    x = np.hstack([s[:,:i1],s[:,i2:]])\n",
    "    y = s[:,i1:i2]\n",
    "\n",
    "    h01,w1 = ER.fit(x,y,niter_max,l2)\n",
    "\n",
    "    return h01,w1\n"
   ]
  },
  {
   "cell_type": "code",
   "execution_count": 28,
   "id": "d4ef9770",
   "metadata": {},
   "outputs": [],
   "source": [
    "# wT_file = \"%s/%s_%s_wT.npy\" % (processed_data_dir, pdb_id, pfam_id)\n",
    "wT_file = 'wT_%s_%s.npy' %(pdb_id, pfam_id)\n",
    "\n",
    "if os.path.exists(wT_file):\n",
    "    wT = np.load(wT_file)\n",
    "else:\n",
    "    wT = np.zeros((mx.sum(),mx.sum()))\n",
    "    h0T = np.zeros(mx.sum())\n",
    "\n",
    "\n",
    "    #-------------------------------\n",
    "    # parallel\n",
    "    start_time = timeit.default_timer()\n",
    "    #res = Parallel(n_jobs = 4)(delayed(predict_w)\\\n",
    "    #res = Parallel(n_jobs = 8)(delayed(predict_w)\\\n",
    "    res = Parallel(n_jobs = n_cpus-2)(delayed(predict_w)\\\n",
    "            (sT,i0,i1i2_T,niter_max=10,l2=100.0)\\\n",
    "            for i0 in range(n_var_T))\n",
    "\n",
    "    run_time = timeit.default_timer() - start_time\n",
    "    print('run time:',run_time)\n",
    "    ## This above line seems wrong, seems like the following for loop should be moved up?? not sure if this is some \n",
    "    ## python implementation or just wrong\n",
    "    #-------------------------------\n",
    "    for i0 in range(n_var):\n",
    "        i1,i2 = i1i2[i0,0],i1i2[i0,1]\n",
    "\n",
    "        h01 = res[i0][0]\n",
    "        w1 = res[i0][1]\n",
    "\n",
    "        h0T[i1:i2] = h01\n",
    "        wT[:i1,i1:i2] = w1[:i1,:]\n",
    "        wT[i2:,i1:i2] = w1[i1:,:]\n",
    "\n",
    "    # make w symmetric\n",
    "    wT = (wT + wT.T)/2.\n",
    "    np.save(wT_file , wT)\n",
    "\n",
    "    \n",
    "w_file = \"%s/%s_%s_w.npy\" % (processed_data_dir, pdb_id, pfam_id)\n",
    "if os.path.exists(w_file):\n",
    "    w = np.load(w_file)\n",
    "else:\n",
    "    w = np.zeros((mx.sum(),mx.sum()))\n",
    "    h0 = np.zeros(mx.sum())\n",
    "\n",
    "\n",
    "    #-------------------------------\n",
    "    # parallel\n",
    "    start_time = timeit.default_timer()\n",
    "    #res = Parallel(n_jobs = 4)(delayed(predict_w)\\\n",
    "    #res = Parallel(n_jobs = 8)(delayed(predict_w)\\\n",
    "    res = Parallel(n_jobs = n_cpus-2)(delayed(predict_w)\\\n",
    "            (s,i0,i1i2,niter_max=10,l2=100.0)\\\n",
    "            for i0 in range(n_var))\n",
    "\n",
    "    run_time = timeit.default_timer() - start_time\n",
    "    print('run time:',run_time)\n",
    "    ## This above line seems wrong, seems like the following for loop should be moved up?? not sure if this is some \n",
    "    ## python implementation or just wrong\n",
    "    #-------------------------------\n",
    "    for i0 in range(n_var):\n",
    "        i1,i2 = i1i2[i0,0],i1i2[i0,1]\n",
    "\n",
    "        h01 = res[i0][0]\n",
    "        w1 = res[i0][1]\n",
    "\n",
    "        h0[i1:i2] = h01\n",
    "        w[:i1,i1:i2] = w1[:i1,:]\n",
    "        w[i2:,i1:i2] = w1[i1:,:]\n",
    "        np.save(w_file , w)\n",
    "\n",
    "    # make w symmetric\n",
    "    w = (w + w.T)/2."
   ]
  },
  {
   "cell_type": "code",
   "execution_count": 16,
   "id": "bcbd558d",
   "metadata": {},
   "outputs": [
    {
     "name": "stdout",
     "output_type": "stream",
     "text": [
      "(381, 381)\n",
      "(9533, 9533)\n"
     ]
    }
   ],
   "source": [
    "print(w.shape)\n",
    "print(wT.shape)\n"
   ]
  },
  {
   "cell_type": "code",
   "execution_count": 29,
   "id": "26e11640",
   "metadata": {},
   "outputs": [],
   "source": [
    "di = direct_info(s0,w)\n",
    "diT = direct_info(s0_seq_wt,wT)\n"
   ]
  },
  {
   "cell_type": "code",
   "execution_count": 34,
   "id": "f654a413",
   "metadata": {},
   "outputs": [
    {
     "name": "stdout",
     "output_type": "stream",
     "text": [
      "(589, 589)\n",
      "(9533, 9533)\n",
      "(55, 589)\n",
      "(589, 589)\n"
     ]
    },
    {
     "data": {
      "text/plain": [
       "<matplotlib.colorbar.Colorbar at 0x2aab85fa1d90>"
      ]
     },
     "execution_count": 34,
     "metadata": {},
     "output_type": "execute_result"
    },
    {
     "data": {
      "image/png": "[encoded data removed]",
      "text/plain": [
       "<Figure size 432x288 with 2 Axes>"
      ]
     },
     "metadata": {
      "needs_background": "light"
     },
     "output_type": "display_data"
    }
   ],
   "source": [
    "print(diT.shape)\n",
    "print(wT.shape)\n",
    "print(s0_seq_wt.shape)\n",
    "diT_wt = np.exp(-diT)\n",
    "print(diT_wt.shape)\n",
    "plt.title('direct information')\n",
    "# plt.imshow(diT_wt[:55,:55],cmap='rainbow',origin='lower')\n",
    "plt.imshow(diT_wt,cmap='rainbow',origin='lower')\n",
    "plt.xlabel('i')\n",
    "plt.ylabel('j')\n",
    "# plt.clim(.999999,1)\n",
    "plt.colorbar(fraction=0.045, pad=0.05)"
   ]
  },
  {
   "cell_type": "code",
   "execution_count": 36,
   "id": "135853c6",
   "metadata": {},
   "outputs": [
    {
     "name": "stdout",
     "output_type": "stream",
     "text": [
      "(589, 589)\n"
     ]
    },
    {
     "data": {
      "text/plain": [
       "<matplotlib.colorbar.Colorbar at 0x2aab8610b820>"
      ]
     },
     "execution_count": 36,
     "metadata": {},
     "output_type": "execute_result"
    },
    {
     "data": {
      "image/png": "[encoded data removed]",
      "text/plain": [
       "<Figure size 432x288 with 2 Axes>"
      ]
     },
     "metadata": {
      "needs_background": "light"
     },
     "output_type": "display_data"
    }
   ],
   "source": [
    "diT_wt = np.exp(-diT)\n",
    "print(diT_wt.shape)\n",
    "plt.imshow(diT_wt[:55,:55],cmap='rainbow',origin='lower')\n",
    "# plt.imshow(diT_wt,cmap='rainbow',origin='lower')\n",
    "plt.xlabel('i')\n",
    "plt.ylabel('j')\n",
    "# plt.clim(.999999,1)\n",
    "plt.colorbar(fraction=0.045, pad=0.05)"
   ]
  },
  {
   "cell_type": "code",
   "execution_count": null,
   "id": "3e96387c",
   "metadata": {},
   "outputs": [],
   "source": []
  }
 ],
 "metadata": {
  "kernelspec": {
   "display_name": "Python 3 (ipykernel)",
   "language": "python",
   "name": "python3"
  },
  "language_info": {
   "codemirror_mode": {
    "name": "ipython",
    "version": 3
   },
   "file_extension": ".py",
   "mimetype": "text/x-python",
   "name": "python",
   "nbconvert_exporter": "python",
   "pygments_lexer": "ipython3",
   "version": "3.9.9"
  }
 },
 "nbformat": 4,
 "nbformat_minor": 5
}
