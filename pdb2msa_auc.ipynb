{
 "cells": [
  {
   "cell_type": "code",
   "execution_count": 1,
   "id": "98621f66",
   "metadata": {},
   "outputs": [
    {
     "name": "stdout",
     "output_type": "stream",
     "text": [
      "Done with initial import\n"
     ]
    }
   ],
   "source": [
    "import os.path, sys\n",
    "\n",
    "import numpy as np\n",
    "import pandas as pd\n",
    "from scipy import linalg\n",
    "from scipy.sparse import csr_matrix\n",
    "from sklearn.preprocessing import OneHotEncoder\n",
    "\n",
    "import Bio.PDB, warnings\n",
    "pdb_list = Bio.PDB.PDBList()\n",
    "pdb_parser = Bio.PDB.PDBParser()\n",
    "from scipy.spatial import distance_matrix\n",
    "from Bio import BiopythonWarning\n",
    "warnings.simplefilter('ignore', BiopythonWarning)\n",
    "\n",
    "from joblib import Parallel, delayed\n",
    "import timeit\n",
    "\n",
    "import matplotlib.pyplot as plt\n",
    "\n",
    "# # --- Import our Code ---# #\n",
    "#import emachine as EM\n",
    "from direct_info import direct_info\n",
    "\n",
    "# import data processing and general DCA_ER tools\n",
    "from pathlib import Path\n",
    "np.random.seed(1)\n",
    "\n",
    "from Bio import SeqIO\n",
    "from Bio.PDB import *\n",
    "from scipy.spatial import distance_matrix\n",
    "from Bio import pairwise2\n",
    "from Bio.SubsMat.MatrixInfo import blosum62\n",
    "pdb_parser = Bio.PDB.PDBParser()\n",
    "from Bio.pairwise2 import format_alignment\n",
    "from prody import *\n",
    "\n",
    "print('Done with initial import')\n",
    "\n"
   ]
  },
  {
   "cell_type": "code",
   "execution_count": 2,
   "id": "e7df2da1",
   "metadata": {},
   "outputs": [],
   "source": [
    "from data_processing import pdb2msa, data_processing_pdb2msa\n",
    "\n",
    "import ecc_tools as tools\n"
   ]
  },
  {
   "cell_type": "code",
   "execution_count": 3,
   "id": "85442763",
   "metadata": {},
   "outputs": [
    {
     "name": "stdout",
     "output_type": "stream",
     "text": [
      "\n",
      "\n",
      "Unzipping /pdb/pdb/d1/pdb2d10.ent.gz\n",
      "Unzipping /pdb/pdb/d1/pdb2d10.ent.gz to /data/cresswellclayec/DCA_ER/biowulf_pdb2msa/protein_data/pdb_data/pdb2d10.ent\n",
      "Done unzipping pdb file\n"
     ]
    }
   ],
   "source": [
    "create_new = False\n",
    "printing = True\n",
    "removing_cols = True\n",
    "remove_diagonals = False\n",
    "\n",
    "data_path = Path('/data/cresswellclayec/DCA_ER/Pfam-A.full')\n",
    "data_path = Path('/data/cresswellclayec/Pfam-A.full')\n",
    "\n",
    "# Define data directories\n",
    "DCA_ER_dir = '/data/cresswellclayec/DCA_ER' # Set DCA_ER directory\n",
    "biowulf_dir = '%s/biowulf_pdb2msa' % DCA_ER_dir\n",
    "\n",
    "\n",
    "out_dir = '%s/protein_data/di/' % biowulf_dir\n",
    "out_metric_dir = '%s/protein_data/metrics/' % biowulf_dir\n",
    "\n",
    "processed_data_dir = \"%s/protein_data/data_processing_output\" % biowulf_dir\n",
    "pdb_dir = '%s/protein_data/pdb_data/' % biowulf_dir\n",
    "\n",
    "# pdb_path = \"/pdb/pdb/zd/pdb1zdr.ent.gz\"\n",
    "pdb_path = \"/pdb/pdb/d1/pdb2d10.ent.gz\"\n",
    "n_cpus = 4\n",
    "print('\\n\\nUnzipping %s' % pdb_path)\n",
    "\n",
    "unzipped_pdb_filename = os.path.basename(pdb_path).replace(\".gz\", \"\")\n",
    "\n",
    "pdb_out_path = \"%s%s\" % (pdb_dir, unzipped_pdb_filename)\n",
    "\n",
    "\n",
    "print('Unzipping %s to %s' % (pdb_path, pdb_out_path))\n",
    "\n",
    "# --------------------- Data Processing (should be saving correct row!!!!) --- #\n",
    "import gzip, shutil\n",
    "def gunzip(file_path,output_path):\n",
    "    with gzip.open(file_path,\"rb\") as f_in, open(output_path,\"wb\") as f_out:\n",
    "        shutil.copyfileobj(f_in, f_out)\n",
    "\n",
    "\n",
    "\n",
    "gunzip(pdb_path, pdb_out_path)\n",
    "\n",
    "print('Done unzipping pdb file')\n",
    "\n"
   ]
  },
  {
   "cell_type": "code",
   "execution_count": 6,
   "id": "1f969045",
   "metadata": {},
   "outputs": [
    {
     "name": "stdout",
     "output_type": "stream",
     "text": [
      "/data/cresswellclayec/DCA_ER/biowulf_pdb2msa/protein_data/pdb_data/\n",
      "2d10\n",
      "Record id 2D10:A, chain A\n",
      "['UNP:P26043', 'UNP:RADI_MOUSE']\n",
      "Record id 2D10:B, chain B\n",
      "['UNP:P26043', 'UNP:RADI_MOUSE']\n",
      "Record id 2D10:C, chain C\n",
      "['UNP:P26043', 'UNP:RADI_MOUSE']\n",
      "Record id 2D10:D, chain D\n",
      "['UNP:P26043', 'UNP:RADI_MOUSE']\n",
      "Record id 2D10:E, chain E\n",
      "['UNP:O14745', 'UNP:NHERF_HUMAN']\n",
      "Record id 2D10:F, chain F\n",
      "['UNP:O14745', 'UNP:NHERF_HUMAN']\n",
      "Record id 2D10:G, chain G\n",
      "['UNP:O14745', 'UNP:NHERF_HUMAN']\n",
      "Record id 2D10:H, chain H\n",
      "['UNP:O14745', 'UNP:NHERF_HUMAN']\n",
      "\n",
      "Chain A polypeptide 0 (length 295):  KPINVRVTTMDAELEFAIQPNTTGKQLFDQVVKTVGLREVWFFGLQYVDSKGYSTWLKLNKKVTQQDVKKENPLQFKFRAKFFPEDVSEELIQEITQRLFFLQVKEAILNDEIYCPPETAVLLASYAVQAKYGDYNKEIHKPGYLANDRLLPQRVLEQHKLTKEQWEERIQNWHEEHRGMLREDSMMEYLKIAQDLEMYGVNYFEIKNKKGTELWLGVDALGLNIYEHDDKLTPKIGFPWSEIRNISFNDKKFVIKPIDKKAPDFVFYAPRLRINKRILALCMGNHELYMRRRKP\n"
     ]
    },
    {
     "name": "stderr",
     "output_type": "stream",
     "text": [
      "@> Submitted Pfam search for sequence \"KPINVRVTTMDAELEF...\".\n"
     ]
    },
    {
     "name": "stdout",
     "output_type": "stream",
     "text": [
      "{'PF09380': {'accession': 'PF09380.13', 'class': 'Domain', 'id': 'FERM_C', 'locations': {'ali_end': '294', 'ali_start': '208', 'bitscore': '94.64', 'end': '295', 'cond_evalue': '5.9e-31', 'ind_evalue': '3.8e-27', 'evidence': 'hmmer v3.0', 'hmm_end': '91', 'hmm_start': '1', 'start': '208'}, 'type': 'Pfam-A'}, 'PF00373': {'accession': 'PF00373.21', 'class': 'Domain', 'id': 'FERM_M', 'locations': {'ali_end': '204', 'ali_start': '89', 'bitscore': '92.99', 'end': '204', 'cond_evalue': '2.6e-30', 'ind_evalue': '1.7e-26', 'evidence': 'hmmer v3.0', 'hmm_end': '116', 'hmm_start': '4', 'start': '86'}, 'type': 'Pfam-A'}, 'PF09379': {'accession': 'PF09379.13', 'class': 'Domain', 'id': 'FERM_N', 'locations': {'ali_end': '68', 'ali_start': '7', 'bitscore': '68.69', 'end': '69', 'cond_evalue': '4.9e-23', 'ind_evalue': '3.2e-19', 'evidence': 'hmmer v3.0', 'hmm_end': '63', 'hmm_start': '1', 'start': '7'}, 'type': 'Pfam-A'}}\n",
      "\n",
      "Chain B polypeptide 0 (length 297):  KPINVRVTTMDAELEFAIQPNTTGKQLFDQVVKTVGLREVWFFGLQYVDSKGYSTWLKLNKKVTQQDVKKENPLQFKFRAKFFPEDVSEELIQEITQRLFFLQVKEAILNDEIYCPPETAVLLASYAVQAKYGDYNKEIHKPGYLANDRLLPQRVLEQHKLTKEQWEERIQNWHEEHRGMLREDSMMEYLKIAQDLEMYGVNYFEIKNKKGTELWLGVDALGLNIYEHDDKLTPKIGFPWSEIRNISFNDKKFVIKPIDKKAPDFVFYAPRLRINKRILALCMGNHELYMRRRKPDT\n"
     ]
    },
    {
     "name": "stderr",
     "output_type": "stream",
     "text": [
      "@> Submitted Pfam search for sequence \"KPINVRVTTMDAELEF...\".\n"
     ]
    },
    {
     "name": "stdout",
     "output_type": "stream",
     "text": [
      "{'PF09380': {'accession': 'PF09380.13', 'class': 'Domain', 'id': 'FERM_C', 'locations': {'ali_end': '296', 'ali_start': '208', 'bitscore': '96.47', 'end': '297', 'cond_evalue': '1.6e-31', 'ind_evalue': '1.0e-27', 'evidence': 'hmmer v3.0', 'hmm_end': '93', 'hmm_start': '1', 'start': '208'}, 'type': 'Pfam-A'}, 'PF00373': {'accession': 'PF00373.21', 'class': 'Domain', 'id': 'FERM_M', 'locations': {'ali_end': '204', 'ali_start': '89', 'bitscore': '92.97', 'end': '204', 'cond_evalue': '2.7e-30', 'ind_evalue': '1.7e-26', 'evidence': 'hmmer v3.0', 'hmm_end': '116', 'hmm_start': '4', 'start': '86'}, 'type': 'Pfam-A'}, 'PF09379': {'accession': 'PF09379.13', 'class': 'Domain', 'id': 'FERM_N', 'locations': {'ali_end': '68', 'ali_start': '7', 'bitscore': '68.67', 'end': '69', 'cond_evalue': '4.9e-23', 'ind_evalue': '3.2e-19', 'evidence': 'hmmer v3.0', 'hmm_end': '63', 'hmm_start': '1', 'start': '7'}, 'type': 'Pfam-A'}}\n",
      "\n",
      "Chain C polypeptide 0 (length 297):  KPINVRVTTMDAELEFAIQPNTTGKQLFDQVVKTVGLREVWFFGLQYVDSKGYSTWLKLNKKVTQQDVKKENPLQFKFRAKFFPEDVSEELIQEITQRLFFLQVKEAILNDEIYCPPETAVLLASYAVQAKYGDYNKEIHKPGYLANDRLLPQRVLEQHKLTKEQWEERIQNWHEEHRGMLREDSMMEYLKIAQDLEMYGVNYFEIKNKKGTELWLGVDALGLNIYEHDDKLTPKIGFPWSEIRNISFNDKKFVIKPIDKKAPDFVFYAPRLRINKRILALCMGNHELYMRRRKPDT\n"
     ]
    },
    {
     "name": "stderr",
     "output_type": "stream",
     "text": [
      "@> Submitted Pfam search for sequence \"KPINVRVTTMDAELEF...\".\n"
     ]
    },
    {
     "name": "stdout",
     "output_type": "stream",
     "text": [
      "{'PF09380': {'accession': 'PF09380.13', 'class': 'Domain', 'id': 'FERM_C', 'locations': {'ali_end': '296', 'ali_start': '208', 'bitscore': '96.47', 'end': '297', 'cond_evalue': '1.6e-31', 'ind_evalue': '1.0e-27', 'evidence': 'hmmer v3.0', 'hmm_end': '93', 'hmm_start': '1', 'start': '208'}, 'type': 'Pfam-A'}, 'PF00373': {'accession': 'PF00373.21', 'class': 'Domain', 'id': 'FERM_M', 'locations': {'ali_end': '204', 'ali_start': '89', 'bitscore': '92.97', 'end': '204', 'cond_evalue': '2.7e-30', 'ind_evalue': '1.7e-26', 'evidence': 'hmmer v3.0', 'hmm_end': '116', 'hmm_start': '4', 'start': '86'}, 'type': 'Pfam-A'}, 'PF09379': {'accession': 'PF09379.13', 'class': 'Domain', 'id': 'FERM_N', 'locations': {'ali_end': '68', 'ali_start': '7', 'bitscore': '68.67', 'end': '69', 'cond_evalue': '4.9e-23', 'ind_evalue': '3.2e-19', 'evidence': 'hmmer v3.0', 'hmm_end': '63', 'hmm_start': '1', 'start': '7'}, 'type': 'Pfam-A'}}\n",
      "\n",
      "Chain D polypeptide 0 (length 297):  KPINVRVTTMDAELEFAIQPNTTGKQLFDQVVKTVGLREVWFFGLQYVDSKGYSTWLKLNKKVTQQDVKKENPLQFKFRAKFFPEDVSEELIQEITQRLFFLQVKEAILNDEIYCPPETAVLLASYAVQAKYGDYNKEIHKPGYLANDRLLPQRVLEQHKLTKEQWEERIQNWHEEHRGMLREDSMMEYLKIAQDLEMYGVNYFEIKNKKGTELWLGVDALGLNIYEHDDKLTPKIGFPWSEIRNISFNDKKFVIKPIDKKAPDFVFYAPRLRINKRILALCMGNHELYMRRRKPDT\n"
     ]
    },
    {
     "name": "stderr",
     "output_type": "stream",
     "text": [
      "@> Submitted Pfam search for sequence \"KPINVRVTTMDAELEF...\".\n"
     ]
    },
    {
     "name": "stdout",
     "output_type": "stream",
     "text": [
      "{'PF09380': {'accession': 'PF09380.13', 'class': 'Domain', 'id': 'FERM_C', 'locations': {'ali_end': '296', 'ali_start': '208', 'bitscore': '96.47', 'end': '297', 'cond_evalue': '1.6e-31', 'ind_evalue': '1.0e-27', 'evidence': 'hmmer v3.0', 'hmm_end': '93', 'hmm_start': '1', 'start': '208'}, 'type': 'Pfam-A'}, 'PF00373': {'accession': 'PF00373.21', 'class': 'Domain', 'id': 'FERM_M', 'locations': {'ali_end': '204', 'ali_start': '89', 'bitscore': '92.97', 'end': '204', 'cond_evalue': '2.7e-30', 'ind_evalue': '1.7e-26', 'evidence': 'hmmer v3.0', 'hmm_end': '116', 'hmm_start': '4', 'start': '86'}, 'type': 'Pfam-A'}, 'PF09379': {'accession': 'PF09379.13', 'class': 'Domain', 'id': 'FERM_N', 'locations': {'ali_end': '68', 'ali_start': '7', 'bitscore': '68.67', 'end': '69', 'cond_evalue': '4.9e-23', 'ind_evalue': '3.2e-19', 'evidence': 'hmmer v3.0', 'hmm_end': '63', 'hmm_start': '1', 'start': '7'}, 'type': 'Pfam-A'}}\n",
      "\n",
      "Chain E polypeptide 0 (length 20):  SSKRAPQMDWSKKNELFSNL\n"
     ]
    },
    {
     "name": "stderr",
     "output_type": "stream",
     "text": [
      "@> Submitted Pfam search for sequence \"SSKRAPQMDWSKKNEL...\".\n"
     ]
    },
    {
     "name": "stdout",
     "output_type": "stream",
     "text": [
      "{'PF09007': {'accession': 'PF09007.14', 'class': 'Domain', 'id': 'EBP50_C', 'locations': {'ali_end': '20', 'ali_start': '1', 'bitscore': '44.55', 'end': '20', 'cond_evalue': '1.5e-15', 'ind_evalue': '2.9e-11', 'evidence': 'hmmer v3.0', 'hmm_end': '128', 'hmm_start': '109', 'start': '1'}, 'type': 'Pfam-A'}}\n",
      "\n",
      "Chain F polypeptide 0 (length 20):  SSKRAPQMDWSKKNELFSNL\n"
     ]
    },
    {
     "name": "stderr",
     "output_type": "stream",
     "text": [
      "@> Submitted Pfam search for sequence \"SSKRAPQMDWSKKNEL...\".\n"
     ]
    },
    {
     "name": "stdout",
     "output_type": "stream",
     "text": [
      "{'PF09007': {'accession': 'PF09007.14', 'class': 'Domain', 'id': 'EBP50_C', 'locations': {'ali_end': '20', 'ali_start': '1', 'bitscore': '44.55', 'end': '20', 'cond_evalue': '1.5e-15', 'ind_evalue': '2.9e-11', 'evidence': 'hmmer v3.0', 'hmm_end': '128', 'hmm_start': '109', 'start': '1'}, 'type': 'Pfam-A'}}\n",
      "\n",
      "Chain G polypeptide 0 (length 20):  SSKRAPQMDWSKKNELFSNL\n"
     ]
    },
    {
     "name": "stderr",
     "output_type": "stream",
     "text": [
      "@> Submitted Pfam search for sequence \"SSKRAPQMDWSKKNEL...\".\n"
     ]
    },
    {
     "name": "stdout",
     "output_type": "stream",
     "text": [
      "{'PF09007': {'accession': 'PF09007.14', 'class': 'Domain', 'id': 'EBP50_C', 'locations': {'ali_end': '20', 'ali_start': '1', 'bitscore': '44.55', 'end': '20', 'cond_evalue': '1.5e-15', 'ind_evalue': '2.9e-11', 'evidence': 'hmmer v3.0', 'hmm_end': '128', 'hmm_start': '109', 'start': '1'}, 'type': 'Pfam-A'}}\n",
      "\n",
      "Chain H polypeptide 0 (length 20):  SSKRAPQMDWSKKNELFSNL\n"
     ]
    },
    {
     "name": "stderr",
     "output_type": "stream",
     "text": [
      "@> Submitted Pfam search for sequence \"SSKRAPQMDWSKKNEL...\".\n"
     ]
    },
    {
     "name": "stdout",
     "output_type": "stream",
     "text": [
      "{'PF09007': {'accession': 'PF09007.14', 'class': 'Domain', 'id': 'EBP50_C', 'locations': {'ali_end': '20', 'ali_start': '1', 'bitscore': '44.55', 'end': '20', 'cond_evalue': '1.5e-15', 'ind_evalue': '2.9e-11', 'evidence': 'hmmer v3.0', 'hmm_end': '128', 'hmm_start': '109', 'start': '1'}, 'type': 'Pfam-A'}}\n",
      "sorting ProdyDataframe\n",
      "fetch PF09380.13 MSA\n",
      "Error during fetPfamMSA:  'https://pfam.xfam.org/family/acc?id=PF09380.13' could not be opened for reading, invalid URL or no internet connection\n",
      "  PDB ID Chain  Polypeptide Index     Pfam   accession   class      id  \\\n",
      "0   2d10     B                  0  PF09380  PF09380.13  Domain  FERM_C   \n",
      "1   2d10     C                  0  PF09380  PF09380.13  Domain  FERM_C   \n",
      "2   2d10     D                  0  PF09380  PF09380.13  Domain  FERM_C   \n",
      "3   2d10     A                  0  PF09380  PF09380.13  Domain  FERM_C   \n",
      "4   2d10     A                  0  PF00373  PF00373.21  Domain  FERM_M   \n",
      "\n",
      "     type                                       PDB Sequence  ali_end  \\\n",
      "0  Pfam-A  KPINVRVTTMDAELEFAIQPNTTGKQLFDQVVKTVGLREVWFFGLQ...      296   \n",
      "1  Pfam-A  KPINVRVTTMDAELEFAIQPNTTGKQLFDQVVKTVGLREVWFFGLQ...      296   \n",
      "2  Pfam-A  KPINVRVTTMDAELEFAIQPNTTGKQLFDQVVKTVGLREVWFFGLQ...      296   \n",
      "3  Pfam-A  KPINVRVTTMDAELEFAIQPNTTGKQLFDQVVKTVGLREVWFFGLQ...      294   \n",
      "4  Pfam-A  KPINVRVTTMDAELEFAIQPNTTGKQLFDQVVKTVGLREVWFFGLQ...      204   \n",
      "\n",
      "   ali_start  bitscore  end   cond_evalue    ind_evalue    evidence  hmm_end  \\\n",
      "0        208     96.47  297  1.600000e-31  1.000000e-27  hmmer v3.0       93   \n",
      "1        208     96.47  297  1.600000e-31  1.000000e-27  hmmer v3.0       93   \n",
      "2        208     96.47  297  1.600000e-31  1.000000e-27  hmmer v3.0       93   \n",
      "3        208     94.64  295  5.900000e-31  3.800000e-27  hmmer v3.0       91   \n",
      "4         89     92.99  204  2.600000e-30  1.700000e-26  hmmer v3.0      116   \n",
      "\n",
      "   hmm_start  start  \n",
      "0          1    208  \n",
      "1          1    208  \n",
      "2          1    208  \n",
      "3          1    208  \n",
      "4          4     86  \n",
      "PDB ID: 2d10, Pfam ID: PF09380\n",
      "Original Sequence length:  549\n",
      "#\n",
      "\n",
      "--------------------- Find PDB Sequence in MSA ---------------#\n",
      "NK-KGTE--LW-LGVD--AL-GLN-IYEHDDKL-----TPKIGF-P---WSEIR-NIS-F-NDKKFVI--KPI--DKKAPDFV----FYAPRL-R---INKR---ILA-LCM-GN-HE-LYM-RRRK-P--\n",
      "|  |  |  |  ||    |  ||  ||    |      ||     |   ||||  ||  | | |||    |    | |         |   |  |   |      ||  ||  |  |  ||  |||  |  \n",
      "N-NK--ETDL-HLG--ISA-QGL-GIY----K-GVNRITP----RPFFSWSEI-KNI-QFKN-KKF--HMK--TVD-K-----STISF---R-SRETSI---DSSIL-DLC-IG-TH-NLY-LRRR-QPDT\n",
      "  Score=45\n",
      "\n",
      "match upgrade at 3\n",
      "3: hamm dist=56, pairwise score=45.000000\n",
      "\n",
      "NKKGTE--LW-LGVD--AL-GLN-IYEHDDKL-----TPKIGF-P---WSEIR-NISFNDK-K-FVI--KPI--DKKAPDFV----FY-APRLR----INKR--ILA-LCM-GN-HE-LYM-RRRK-P--\n",
      "|||  |  |  ||    |  ||  ||    |      ||     |   ||||  ||||  | | |    |    | |         |  |        ||    ||  ||  |  |  ||  |||  |  \n",
      "NKK--ETDL-HLG--ISA-QGL-GIY----K-GSNRITP----RPFFSWSEI-KNISF--KSKKF--HMK--TVD-K-----STISF-QA----QDNCIN--PSIL-DLC-IG-TH-NLY-LRRR-QPDT\n",
      "  Score=46\n",
      "\n",
      "match upgrade at 169\n",
      "169: hamm dist=54, pairwise score=46.000000\n",
      "\n",
      "NKKGTE--LW-LGVD--ALGLN-IYEHDDKL-TPK--IGF-P-----WSEIR-NIS-FNDK-K-FVI--KPI--DKKAP---DFVFY-APRLR---INKR--ILA-LCM-GN-HE-LYMR--RRK-P--\n",
      "|||  |  |  ||    ||||  ||    |  |    |   |     ||||  ||  |  | | |    |    | |     |  |  |   |   ||    ||  ||  |  |  ||    ||  |  \n",
      "NKK--ETDL-HLG--ISALGL-GIY----K-GT--NRI--TPRPFFSWSEI-KNI-QF--KNKMF--YMK--TVD-K--SSID--F-KA---RDSSIN--PSIL-DLC-IG-TH-NLY--LKRR-QPDT\n",
      "  Score=47\n",
      "\n",
      "match upgrade at 1352\n",
      "1352: hamm dist=54, pairwise score=47.000000\n",
      "\n",
      "NKKGTE----LWLGVDA-LGLNIYEHDDK----LT-PKIG--FPWSEIR-NIS-FN-DKKFV-IKPI-DKKAPDFVFYA--PR-LRI-NKRILA---LCM--GNHE---LYMR----RRKP\n",
      "| |       ||||||  |||||||        |  ||    ||||||  ||  |  ||||  |||  |||||||||    |  ||  ||  |    |    |      |  |    ||  \n",
      "N-K---RDSDLWLGVD-SLGLNIYE----SENRL-NPK--VTFPWSEI-KNI-AF-KDKKF-TIKP-VDKKAPDFVF--FSP-KLR-MNK--L-VSEL--RAG---KQTL--RKASDRR--\n",
      "  Score=55\n",
      "\n",
      "match upgrade at 2305\n",
      "2305: hamm dist=37, pairwise score=55.000000\n",
      "\n",
      "best match is sequence 2305 with hamming distance of 37 (length 88)\n",
      "33 [ 2  3  4  5 12 20 21 22 23 25 28 29 36 39 41 46 50 60 61 63 66 70 71 72\n",
      " 74 75 77 78 79 82 83 84 85]\n",
      "55 [ 0  2  6  7  8  9 10 11 13 14 15 16 17 18 19 24 26 27 30 31 32 33 34 35\n",
      " 37 38 40 42 43 44 45 47 48 49 51 52 53 54 55 56 57 58 59 62 64 65 67 68\n",
      " 71 73 76 80 83 84 85]\n",
      "\n",
      " aligned PDB and ref seq:\n",
      "55 ['N' 'K' 'L' 'W' 'L' 'G' 'V' 'D' 'L' 'G' 'L' 'N' 'I' 'Y' 'E' 'L' 'P' 'K'\n",
      " 'F' 'P' 'W' 'S' 'E' 'I' 'N' 'I' 'F' 'D' 'K' 'K' 'F' 'I' 'K' 'P' 'D' 'K'\n",
      " 'K' 'A' 'P' 'D' 'F' 'V' 'F' 'P' 'L' 'R' 'N' 'K' 'L' 'L' 'G' 'L' 'R' 'R'\n",
      " 'R']\n",
      "55 ['N' 'K' 'L' 'W' 'L' 'G' 'V' 'D' 'L' 'G' 'L' 'N' 'I' 'Y' 'E' 'L' 'P' 'K'\n",
      " 'F' 'P' 'W' 'S' 'E' 'I' 'N' 'I' 'F' 'D' 'K' 'K' 'F' 'I' 'K' 'P' 'D' 'K'\n",
      " 'K' 'A' 'P' 'D' 'F' 'V' 'F' 'P' 'L' 'R' 'N' 'K' 'L' 'L' 'G' 'L' 'R' 'R'\n",
      " 'R']\n",
      "55 ['N' 'K' 'L' 'W' 'L' 'G' 'V' 'D' 'L' 'G' 'L' 'N' 'I' 'Y' 'E' 'L' 'P' 'K'\n",
      " 'F' 'P' 'W' 'S' 'E' 'I' 'N' 'I' 'F' 'D' 'K' 'K' 'F' 'I' 'K' 'P' 'D' 'K'\n",
      " 'K' 'A' 'P' 'D' 'F' 'V' 'F' 'P' 'L' 'R' 'N' 'K' 'L' 'L' 'G' 'l' 'r' 'r'\n",
      " 'r']\n",
      "Alignment(seqA='NKKGTE----LWLGVDA-LGLNIYEHDDK----LT-PKIG--FPWSEIR-NIS-FN-DKKFV-IKPI-DKKAPDFVFYA--PR-LRI-NKRILA---LCM--GNHE---LYMR----RRKP', seqB='N-K---RDSDLWLGVD-SLGLNIYE----SENRL-NPK--VTFPWSEI-KNI-AF-KDKKF-TIKP-VDKKAPDFVF--FSP-KLR-MNK--L-VSEL--RAG---KQTL--RKASDRR--', score=55.0, start=0, end=121)\n",
      "s trimmed by reference sequences and aligned pdb sequence (both in alignment):  (7087, 55)\n"
     ]
    }
   ],
   "source": [
    "## print(pdb_out_path)\n",
    "print(pdb_dir)\n",
    "pdb2msa_results = pdb2msa(pdb_out_path, pdb_dir, create_new=True)\n",
    "\n",
    "if len(pdb2msa_results) > 1:\n",
    "    fasta_file = pdb2msa_results[0]\n",
    "    prody_df = pdb2msa_results[1]\n",
    "else:\n",
    "    prody_df = pdb2msa_results[0]\n",
    "\n",
    "\n",
    "\n",
    "def get_tpdb_new(s, ali_start_indx, ali_end_indx, pfam_start_indx, pfam_end_indx, aligned_pdb_str):\n",
    "    # Requires DataFrame from data_processing.pdb2msa() function as input\n",
    "    from ecc_tools import hamming_distance\n",
    "    alignment_len =  ali_end_indx - ali_start_indx\n",
    "    #print(alignment_len, len(aligned_pdb_str), aligned_pdb_str)\n",
    "\n",
    "    min_ham = alignment_len\n",
    "    max_pair_score = 0\n",
    "    min_indx = -1\n",
    "    for i, seq in enumerate(s):\n",
    "        gap_seq = seq == '-'  # returns True/False for gaps/no gaps\n",
    "        subject = seq[~gap_seq]\n",
    "        seq_str = ''.join(subject).upper()\n",
    "        aligned_seq_str = seq_str[pfam_start_indx : pfam_end_indx]\n",
    "        if len(aligned_seq_str) != alignment_len:\n",
    "           continue\n",
    "        ham_dist = hamming_distance(aligned_pdb_str, aligned_seq_str)\n",
    "        alignments = pairwise2.align.globalxx(aligned_pdb_str, aligned_seq_str)\n",
    "        \n",
    "        if len(alignments) == 0:\n",
    "            continue\n",
    "        pair_score = alignments[0].score\n",
    "#         if ham_dist < min_ham:\n",
    "        if pair_score > max_pair_score:\n",
    "            min_ham = ham_dist\n",
    "            max_pair_score = pair_score\n",
    "            min_indx = i\n",
    "            print(format_alignment(*alignments[0]))\n",
    "            best_alignment = alignments[0]\n",
    "            print('match upgrade at' , i)\n",
    "            print('%d: hamm dist=%d, pairwise score=%f\\n' % (i, ham_dist, pair_score))\n",
    "\n",
    "\n",
    "            pair_score = alignments[0].score\n",
    "\n",
    "    gap_seq = s[min_indx] == '-'\n",
    "    print('best match is sequence %d with hamming distance of %d (length %d)' % (min_indx, min_ham, len(s[min_indx][~gap_seq])))\n",
    "    \n",
    "    \n",
    "    # get matching seq for both sequences (no gaps in either)\n",
    "    aligned_pdb_char_array = np.array([char for char in best_alignment.seqA])\n",
    "    aligned_ref_char_array = np.array([char for char in best_alignment.seqB])\n",
    "    \n",
    "    # get array of gaps for both sequences\n",
    "    seqA_gaps = aligned_pdb_char_array == '-'\n",
    "    seqB_gaps = aligned_ref_char_array == '-'\n",
    "    aligned_gaps = np.logical_or(seqA_gaps, seqB_gaps)\n",
    "\n",
    "    \n",
    "    # create index array for reference sequence so we know which msa columns associated with aligned arrays\n",
    "    pdb_count = 0\n",
    "    ref_count = 0\n",
    "    gap_ref_index = -1 * np.ones(len(aligned_ref_char_array), dtype=int)\n",
    "    gap_pdb_index = -1 * np.ones(len(aligned_pdb_char_array), dtype=int)\n",
    "    for i, char in enumerate(aligned_ref_char_array):\n",
    "        if char !='-':\n",
    "            gap_ref_index[i] = int(ref_count)\n",
    "            ref_count += 1\n",
    "        if aligned_pdb_char_array[i] !='-':\n",
    "            gap_pdb_index[i] = int(pdb_count)\n",
    "            pdb_count += 1            \n",
    "#     print(gap_ref_index)    \n",
    "    \n",
    "    \n",
    "    # get columns to remove (gap in PDB) in MSA\n",
    "    pdb_gap_cols_in_ref = gap_ref_index[seqA_gaps]\n",
    "    print(len(pdb_gap_cols_in_ref), pdb_gap_cols_in_ref)\n",
    "\n",
    "    # get s_index for mapping msa to pdb sequence.\n",
    "    pdb_s_index = gap_pdb_index[~aligned_gaps]\n",
    "    print(len(pdb_s_index), pdb_s_index)\n",
    "    \n",
    "    # Extract further infor for aligned seqs.\n",
    "    aligned_pdb_nogap = aligned_pdb_char_array[~aligned_gaps]\n",
    "    aligned_ref_nogap = aligned_ref_char_array[~aligned_gaps]\n",
    "    print('\\n aligned PDB and ref seq:')\n",
    "    print(len(aligned_pdb_nogap),aligned_pdb_nogap)\n",
    "    print(len(aligned_ref_nogap),aligned_ref_nogap)\n",
    "    \n",
    "    # Trim By gaps in Ref seq (tbr). Then Trim By gaps in Pdb seq (tpb)\n",
    "    s_tbr = s[:, ~gap_seq]\n",
    "    s_tbr_tbp = np.delete(s_tbr, pdb_gap_cols_in_ref, axis=1)\n",
    "    # printed ref seq should be the same as the fully alinged, gapless pdb and ref seqs above.\n",
    "    print(len(s_tbr_tbp[min_indx]), s_tbr_tbp[min_indx])\n",
    "    \n",
    "\n",
    "\n",
    "    return min_indx, best_alignment, s_tbr_tbp, pdb_s_index\n",
    "\n",
    "\n",
    "print(prody_df.head())\n",
    "\n",
    "pdb_df = prody_df.iloc[0]\n",
    "from data_processing import load_msa\n",
    "pfam_id = pdb_df['Pfam']\n",
    "pdb_seq = pdb_df['PDB Sequence']\n",
    "pdb_id = pdb_df['PDB ID']\n",
    "ali_start_indx = int(pdb_df['ali_start'])-1\n",
    "ali_end_indx = int(pdb_df['ali_end'])-1\n",
    "pfam_start_indx = int(pdb_df['hmm_start'])-1\n",
    "pfam_end_indx = int(pdb_df['hmm_end'])-1\n",
    "\n",
    "aligned_pdb_str  = pdb_df['PDB Sequence'][ali_start_indx:ali_end_indx]\n",
    "\n",
    "\n",
    "print('PDB ID: %s, Pfam ID: %s' % (pdb_id, pfam_id))\n",
    "\n",
    "np.random.seed(123456789)\n",
    "#if not create_new and os.path.exists(\"%s/%s_pdb_df.csv\" % (out_dir, pfam_id)):\n",
    "if 0:\n",
    "    print('Because create_new is False and files exist we will load preprocessed data:')\n",
    "    if remove_cols:\n",
    "        s = np.load(\"%s/%s_%s_preproc_msa.npy\" % (out_dir, pfam_id, pdb_id))\n",
    "        s_index = np.load(\"%s/%s_%s_preproc_sindex.npy\" % (out_dir, pfam_id, pdb_id))\n",
    "        removed_cols = np.load(\"%s/%s_%s_removed_cols.npy\" % (out_dir, pfam_id, pdb_id))\n",
    "        ref_seq = np.load(\"%s/%s_%s_preproc_refseq.npy\" % (out_dir, pfam_id, pdb_id))\n",
    "    else:\n",
    "        s = np.load(\"%s/%s_%s_allCols_msa.npy\" % (out_dir, pfam_id, pdb_id))\n",
    "        s_index = np.load(\"%s/%s_%s_allCols_sindex.npy\" % (out_dir, pfam_id, pdb_id))\n",
    "        removed_cols = np.load(\"%s/%s_%s_removed_cols.npy\" % (out_dir, pfam_id, pdb_id))\n",
    "        ref_seq = np.load(\"%s/%s_%s_allCols_refseq.npy\" % (out_dir, pfam_id, pdb_id))\n",
    "\n",
    "    if not letter_format and isinstance(s[0][0], str):\n",
    "        s = convert_letter2number(s)\n",
    "\n",
    "\n",
    "\n",
    "# Load MSA\n",
    "s = load_msa(data_path, pfam_id)\n",
    "orig_seq_len = s.shape[1]\n",
    "print('Original Sequence length: ', orig_seq_len)\n",
    "\n",
    "\n",
    "# Using given MSA find best matching PDB structure from all available MSA sequences.\n",
    "\n",
    "if printing:\n",
    "    print(\"#\\n\\n--------------------- Find PDB Sequence in MSA ---------------#\")\n",
    "\n",
    "\n",
    "\n",
    "\n",
    "# Find PDB seq in MSA current\n",
    "tpdb, alignment, s_trimmed = get_tpdb_new(s, ali_start_indx, ali_end_indx, pfam_start_indx, pfam_end_indx, aligned_pdb_str) # requires prody.searchPfam DF from pdb2msa as input\n",
    "print(alignment)\n",
    "\n",
    "print('s trimmed by reference sequences and aligned pdb sequence (both in alignment): ', s_trimmed.shape)\n"
   ]
  },
  {
   "cell_type": "code",
   "execution_count": null,
   "id": "8854cb19",
   "metadata": {},
   "outputs": [],
   "source": [
    "seqA_nogap = [char for char in alignment.seqA if char!='-']\n",
    "print(len(seqA_nogap), seqA_nogap)\n",
    "print(len(alignment.seqA), alignment.seqA)\n",
    "seqB_nogap = [char for char in alignment.seqB if char!='-']\n",
    "print(len(seqB_nogap), seqB_nogap)\n",
    "print(len(alignment.seqB), alignment.seqB)"
   ]
  },
  {
   "cell_type": "code",
   "execution_count": null,
   "id": "59828517",
   "metadata": {},
   "outputs": [],
   "source": [
    "print(len(aligned_pdb_str), aligned_pdb_str)"
   ]
  },
  {
   "cell_type": "code",
   "execution_count": null,
   "id": "a1190454",
   "metadata": {},
   "outputs": [],
   "source": []
  },
  {
   "cell_type": "markdown",
   "id": "6216ca2b",
   "metadata": {},
   "source": [
    "The MSA can be currated with the above reductions with confidence that the columns are appropriately aligned with the PDB sequence."
   ]
  },
  {
   "cell_type": "code",
   "execution_count": null,
   "id": "c9af9ff2",
   "metadata": {},
   "outputs": [],
   "source": []
  }
 ],
 "metadata": {
  "kernelspec": {
   "display_name": "Python 3 (ipykernel)",
   "language": "python",
   "name": "python3"
  },
  "language_info": {
   "codemirror_mode": {
    "name": "ipython",
    "version": 3
   },
   "file_extension": ".py",
   "mimetype": "text/x-python",
   "name": "python",
   "nbconvert_exporter": "python",
   "pygments_lexer": "ipython3",
   "version": "3.9.9"
  }
 },
 "nbformat": 4,
 "nbformat_minor": 5
}
