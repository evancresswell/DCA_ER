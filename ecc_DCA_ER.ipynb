{
 "cells": [
  {
   "cell_type": "code",
   "execution_count": 2,
   "metadata": {},
   "outputs": [],
   "source": [
    "import os.path\n",
    "\n",
    "import numpy as np\n",
    "import pandas as pd\n",
    "from scipy import linalg\n",
    "from scipy.sparse import csr_matrix\n",
    "from sklearn.preprocessing import OneHotEncoder\n",
    "\n",
    "import Bio.PDB, warnings\n",
    "pdb_list = Bio.PDB.PDBList()\n",
    "pdb_parser = Bio.PDB.PDBParser()\n",
    "from scipy.spatial import distance_matrix\n",
    "from Bio import BiopythonWarning\n",
    "warnings.simplefilter('ignore', BiopythonWarning)\n",
    "\n",
    "from joblib import Parallel, delayed\n",
    "import timeit\n",
    "\n",
    "import matplotlib.pyplot as plt\n",
    "%matplotlib inline\n",
    "\n",
    "# # --- Import our Code ---# #\n",
    "#import emachine as EM\n",
    "from direct_info import direct_info\n",
    "\n",
    "# import data processing and general DCA_ER tools\n",
    "from data_processing import data_processing\n",
    "import ecc_tools as tools\n",
    "from pathlib import Path"
   ]
  },
  {
   "cell_type": "markdown",
   "metadata": {},
   "source": [
    "np.random.seed(1)"
   ]
  },
  {
   "cell_type": "markdown",
   "metadata": {},
   "source": [
    "## Read in Protein Structure\n",
    "1. We will start by reading in a set of Protein structures with the given Protein ID \"pfam_id\"\n",
    "    * [More Info on working with PDB structures in DataFrames](http://rasbt.github.io/biopandas/tutorials/Working_with_PDB_Structures_in_DataFrames/)"
   ]
  },
  {
   "cell_type": "code",
   "execution_count": 3,
   "metadata": {},
   "outputs": [
    {
     "ename": "FileNotFoundError",
     "evalue": "[Errno 2] No such file or directory: 'Pfam-A.full/PF00186/pdb_refs.npy'",
     "output_type": "error",
     "traceback": [
      "\u001B[1;31m---------------------------------------------------------------------------\u001B[0m",
      "\u001B[1;31mFileNotFoundError\u001B[0m                         Traceback (most recent call last)",
      "\u001B[1;32mC:\\Users\\EVANCR~1\\AppData\\Local\\Temp/ipykernel_8292/3150460171.py\u001B[0m in \u001B[0;36m<module>\u001B[1;34m\u001B[0m\n\u001B[0;32m     12\u001B[0m \u001B[1;31m# however we also\u001B[0m\u001B[1;33m\u001B[0m\u001B[1;33m\u001B[0m\u001B[0m\n\u001B[0;32m     13\u001B[0m \u001B[0mindividual_pdb_ref_file\u001B[0m \u001B[1;33m=\u001B[0m \u001B[1;34m'%s/%s/pdb_refs.npy'\u001B[0m\u001B[1;33m%\u001B[0m\u001B[1;33m(\u001B[0m\u001B[0mdata_path\u001B[0m\u001B[1;33m,\u001B[0m\u001B[0mpfam_id\u001B[0m\u001B[1;33m)\u001B[0m\u001B[1;33m\u001B[0m\u001B[1;33m\u001B[0m\u001B[0m\n\u001B[1;32m---> 14\u001B[1;33m \u001B[0mpdb\u001B[0m \u001B[1;33m=\u001B[0m \u001B[0mnp\u001B[0m\u001B[1;33m.\u001B[0m\u001B[0mload\u001B[0m\u001B[1;33m(\u001B[0m\u001B[0mindividual_pdb_ref_file\u001B[0m\u001B[1;33m)\u001B[0m\u001B[1;33m\u001B[0m\u001B[1;33m\u001B[0m\u001B[0m\n\u001B[0m\u001B[0;32m     15\u001B[0m \u001B[0mprocessed_data_dir\u001B[0m \u001B[1;33m=\u001B[0m \u001B[1;34m\"%s/protein_data/data_processing_output\"\u001B[0m \u001B[1;33m%\u001B[0m \u001B[0mDCA_dir\u001B[0m\u001B[1;33m\u001B[0m\u001B[1;33m\u001B[0m\u001B[0m\n\u001B[0;32m     16\u001B[0m \u001B[1;33m\u001B[0m\u001B[0m\n",
      "\u001B[1;32mC:\\ProgramData\\Anaconda3\\envs\\DCA_ER\\lib\\site-packages\\numpy\\lib\\npyio.py\u001B[0m in \u001B[0;36mload\u001B[1;34m(file, mmap_mode, allow_pickle, fix_imports, encoding)\u001B[0m\n\u001B[0;32m    415\u001B[0m             \u001B[0mown_fid\u001B[0m \u001B[1;33m=\u001B[0m \u001B[1;32mFalse\u001B[0m\u001B[1;33m\u001B[0m\u001B[1;33m\u001B[0m\u001B[0m\n\u001B[0;32m    416\u001B[0m         \u001B[1;32melse\u001B[0m\u001B[1;33m:\u001B[0m\u001B[1;33m\u001B[0m\u001B[1;33m\u001B[0m\u001B[0m\n\u001B[1;32m--> 417\u001B[1;33m             \u001B[0mfid\u001B[0m \u001B[1;33m=\u001B[0m \u001B[0mstack\u001B[0m\u001B[1;33m.\u001B[0m\u001B[0menter_context\u001B[0m\u001B[1;33m(\u001B[0m\u001B[0mopen\u001B[0m\u001B[1;33m(\u001B[0m\u001B[0mos_fspath\u001B[0m\u001B[1;33m(\u001B[0m\u001B[0mfile\u001B[0m\u001B[1;33m)\u001B[0m\u001B[1;33m,\u001B[0m \u001B[1;34m\"rb\"\u001B[0m\u001B[1;33m)\u001B[0m\u001B[1;33m)\u001B[0m\u001B[1;33m\u001B[0m\u001B[1;33m\u001B[0m\u001B[0m\n\u001B[0m\u001B[0;32m    418\u001B[0m             \u001B[0mown_fid\u001B[0m \u001B[1;33m=\u001B[0m \u001B[1;32mTrue\u001B[0m\u001B[1;33m\u001B[0m\u001B[1;33m\u001B[0m\u001B[0m\n\u001B[0;32m    419\u001B[0m \u001B[1;33m\u001B[0m\u001B[0m\n",
      "\u001B[1;31mFileNotFoundError\u001B[0m: [Errno 2] No such file or directory: 'Pfam-A.full/PF00186/pdb_refs.npy'"
     ]
    }
   ],
   "source": [
    "# Read in Protein structure\n",
    "data_path = 'Pfam-A.full'\n",
    "pfam_id = 'PF00186'\n",
    "\n",
    "# Set DCA_ER directory\n",
    "DCA_dir = os.getcwd()\n",
    "\n",
    "# Define data directories\n",
    "\n",
    "# Need to think on best way to do this..\n",
    "# Referencing the same dataframe may be useful so we dont always have to load individual ref files...\n",
    "# however we also\n",
    "individual_pdb_ref_file = '%s/%s/pdb_refs.npy'%(data_path,pfam_id)\n",
    "pdb = np.load(individual_pdb_ref_file)\n",
    "processed_data_dir = \"%s/protein_data/data_processing_output\" % DCA_dir\n",
    "\n",
    "# delete 'b' in front of letters (python 2 --> python 3)\n",
    "pdb = np.array([pdb[t,i].decode('UTF-8') for t in range(pdb.shape[0]) \\\n",
    "         for i in range(pdb.shape[1])]).reshape(pdb.shape[0],pdb.shape[1])\n",
    "\n",
    "\n",
    "# Print number of pdb structures in Protein ID folder\n",
    "npdb = pdb.shape[0]\n",
    "print('number of pdb structures:',npdb)\n",
    "\n",
    "# Create pandas dataframe for protein structure\n",
    "pdb_df = pd.DataFrame(pdb,columns = ['PF','seq','id','uniprot_start','uniprot_start',\\\n",
    "                                 'pdb_id','chain','pdb_start','pdb_end'])\n",
    "pdb_df.head()\n"
   ]
  },
  {
   "cell_type": "markdown",
   "metadata": {},
   "source": [
    "PDB DataFrame needs to have PF######, PDB-id, as well as start and end locations of amino acids, as well as reference sequence in msa (not in current file with all pdb data)\n",
    "### PDB Website Search Engine\n",
    "   * We can visualize the complex structure of the proteins\n",
    "   * The data-base below gives further information on the proteins above (input pdb_id)"
   ]
  },
  {
   "cell_type": "code",
   "execution_count": null,
   "metadata": {},
   "outputs": [],
   "source": [
    "tools.hide_toggle(for_next=True) # Hide html code for PDB website\n",
    "tools.hide_toggle()"
   ]
  },
  {
   "cell_type": "code",
   "execution_count": null,
   "metadata": {},
   "outputs": [],
   "source": [
    "%%html\n",
    "<iframe src=\"https://www.rcsb.org\" width=\"600\" height=\"500\"></iframe>"
   ]
  },
  {
   "cell_type": "markdown",
   "metadata": {},
   "source": [
    "### Define contact map\n",
    "2. Import contact map functions from newly defined tools python module"
   ]
  },
  {
   "cell_type": "code",
   "execution_count": null,
   "metadata": {},
   "outputs": [],
   "source": [
    "import ecc_tools as tools"
   ]
  },
  {
   "cell_type": "code",
   "execution_count": null,
   "metadata": {},
   "outputs": [],
   "source": [
    "ipdb = 0\n",
    "printing = True\n",
    "print('seq:',int(pdb[ipdb,1]))\n",
    "\n",
    "\n",
    "# Load csv of PDB-PFAM mapping.\n",
    "#    downloaded from \n",
    "#    ftp://ftp.ebi.ac.uk/pub/databases/msd/sifts/flatfiles/csv/pdb_pfam_mapping.csv.gz\n",
    "pdb_id = pdb_df.iloc[ipdb]['pdb_id']\n",
    "pdb_chain = pdb_df.iloc[ipdb]['chain']\n",
    "\n",
    "pdb_pfam_map_file = Path('%s/protein_data/pdb_data/pdb_pfam_mapping.csv' % DCA_dir)\n",
    "pdb_map_df = pd.read_csv(pdb_pfam_map_file, sep=',', header=1)\n",
    "\n",
    "pdb_id_map_df = pdb_map_df.loc[pdb_map_df['PDB']==pdb_id.lower()]\n",
    "pdb_pfam_map = pdb_id_map_df.loc[pdb_id_map_df['CHAIN']==pdb_chain]\n",
    "\n",
    "# Check that pdb--pfam mapping is unique\n",
    "if pdb_pfam_map.shape[0] > 1:\n",
    "    print('Unable to get unique PDB-->Pfam mapping')\n",
    "\n",
    "pp_range = [pdb_pfam_map.iloc[0]['PDB_START'], pdb_pfam_map.iloc[0]['PDB_END']]\n",
    "print('Polypeptide range for contact map: ', pp_range)\n"
   ]
  },
  {
   "cell_type": "code",
   "execution_count": null,
   "metadata": {
    "scrolled": true
   },
   "outputs": [],
   "source": [
    "\n",
    "# data processing\n",
    "s0,cols_removed, s_index, tpdb = data_processing(data_path, pfam_id, ipdb,\\\n",
    "                gap_seqs=0.2, gap_cols=0.2, prob_low=0.004, conserved_cols=0.9, printing=printing, out_dir=processed_data_dir)\n",
    "\n",
    "pdb_out = \"%s/protein_data/pdb_data\" % DCA_dir\n",
    "# Directory for storing PDB data locally\n",
    "ct, ct_full, n_amino_full, poly_seq_curated = tools.contact_map(pdb, ipdb, pp_range, cols_removed, s_index, pdb_out_dir=pdb_out, printing=printing)\n",
    "\n"
   ]
  },
  {
   "cell_type": "markdown",
   "metadata": {},
   "source": [
    "3. Plot the contact Map of the imported Protein structure"
   ]
  },
  {
   "cell_type": "code",
   "execution_count": null,
   "metadata": {},
   "outputs": [],
   "source": [
    "plt.title('Full Contact Map')\n",
    "plt.imshow(ct_full,cmap='rainbow_r',origin='lower')\n",
    "plt.xlabel('i')\n",
    "plt.ylabel('j')\n",
    "plt.colorbar(fraction=0.045, pad=0.05)\n",
    "plt.show()\n",
    "tools.hide_toggle()\n",
    "\n",
    "plt.title('Curated Contact Map')\n",
    "plt.imshow(ct,cmap='rainbow_r',origin='lower')\n",
    "plt.xlabel('i')\n",
    "plt.ylabel('j')\n",
    "plt.colorbar(fraction=0.045, pad=0.05)\n",
    "plt.show()\n",
    "tools.hide_toggle()"
   ]
  },
  {
   "cell_type": "markdown",
   "metadata": {},
   "source": [
    "## Now we want to use Expectation Reflection to infer the \"calculate the weights \" \n",
    "  * Infer interactions between residues (R-part of ammino acid) in proteins from Multiple Sequence Alignment (MSA) data\n",
    "  * More understanding required on meaning/interpretation of weights\n",
    "  \n",
    "1. We can start by defining some important values of our protein structures\n",
    "    * It is important to define 'i1i2' vector to keep track of OneHot index positions (i) coresonding to the beginning and end of a given amino acid position (this acts as a key between the OneHot matrix (s) and the original sequence matrix (s0)"
   ]
  },
  {
   "cell_type": "code",
   "execution_count": null,
   "metadata": {},
   "outputs": [],
   "source": [
    "# number of positions\n",
    "n_var = s0.shape[1]\n",
    "print(\"Number of residue positions:\",n_var)\n",
    "\n",
    "# number of aminoacids at each position\n",
    "mx = np.array([len(np.unique(s0[:,i])) for i in range(n_var)])\n",
    "#mx = np.array([m for i in range(n_var)])\n",
    "print(\"Number of different amino acids at each position\",mx)\n",
    "\n",
    "mx_cumsum = np.insert(mx.cumsum(),0,0)\n",
    "i1i2 = np.stack([mx_cumsum[:-1],mx_cumsum[1:]]).T \n",
    "print(\"(Sanity Check) Column indices of first and (\",i1i2[0],\") and last (\",i1i2[-1],\") positions\")\n",
    "print(\"(Sanity Check) Column indices of second and (\",i1i2[1],\") and second to last (\",i1i2[-2],\") positions\")\n",
    "\n",
    "\n",
    "# number of variables\n",
    "mx_sum = mx.sum()\n",
    "print(\"Total number of variables\",mx_sum)\n",
    "\n",
    "# number of bias term\n",
    "n_linear = mx_sum - n_var"
   ]
  },
  {
   "cell_type": "markdown",
   "metadata": {},
   "source": [
    "2.  The above indices help to divide all the possible amino acids at different positions to binary choices which will be implemented wit 1 of K notation (OneHot Encoder)"
   ]
  },
  {
   "cell_type": "code",
   "execution_count": null,
   "metadata": {},
   "outputs": [],
   "source": [
    "onehot_encoder = OneHotEncoder(sparse=False,categories='auto')\n",
    "# s is OneHot encoder format, s0 is original sequnce matrix\n",
    "s = onehot_encoder.fit_transform(s0)\n",
    "print(\"Amino Acid sequence Matrix\\n\",s0)\n",
    "print(\"OneHot sequence Matrix\\n\",s)\n",
    "print(\"An individual element of the OneHot sequence Matrix (size:\",\n",
    "      s.shape,\") --> \",s[0], \" has length \",s[0].shape)"
   ]
  },
  {
   "cell_type": "markdown",
   "metadata": {},
   "source": [
    "#### OneHot Format example\n",
    "* Given 3 sequence poitions each with 3 different amino acids:\n",
    "    * Notation: The 3<sup>rd</sup> amino acid type at the 2<sup>nd</sup> sequence position is denoted as R23<br/>\n",
    "* OneHot converts the sequence [R11 R22 R33] &rightarrow; [1 0 0 0 1 0 0 0 1]  \n",
    "  \n",
    "  \n",
    "3. We next want to define our local field parameters"
   ]
  },
  {
   "cell_type": "code",
   "execution_count": null,
   "metadata": {},
   "outputs": [],
   "source": [
    "# Define wight matrix with variable for each possible amino acid at each sequence position\n",
    "w = np.zeros((mx.sum(),mx.sum())) \n",
    "h0 = np.zeros(mx.sum())"
   ]
  },
  {
   "cell_type": "markdown",
   "metadata": {},
   "source": [
    "### Apply Expectation Reflection\n",
    "4. We can now apply expectation reflection to infer the connection between postion residues"
   ]
  },
  {
   "cell_type": "code",
   "execution_count": null,
   "metadata": {},
   "outputs": [],
   "source": [
    "import sys\n",
    "import numpy as np\n",
    "from scipy import linalg\n",
    "from sklearn.preprocessing import OneHotEncoder\n",
    "import expectation_reflection as ER\n",
    "from direct_info import direct_info\n",
    "from joblib import Parallel, delayed"
   ]
  },
  {
   "cell_type": "code",
   "execution_count": null,
   "metadata": {},
   "outputs": [],
   "source": [
    "# Expectation Reflection\n",
    "#=========================================================================================\n",
    "def predict_w(s,i0,i1i2,niter_max,l2):\n",
    "    #print('i0:',i0)\n",
    "    i1,i2 = i1i2[i0,0],i1i2[i0,1]\n",
    "\n",
    "    x = np.hstack([s[:,:i1],s[:,i2:]])\n",
    "    y = s[:,i1:i2]\n",
    "\n",
    "    h01,w1 = ER.fit(x,y,niter_max,l2)\n",
    "\n",
    "    return h01,w1\n",
    "\n",
    "#-------------------------------\n",
    "# parallel\n",
    "start_time = timeit.default_timer()\n",
    "#res = Parallel(n_jobs = 4)(delayed(predict_w)\\\n",
    "res = Parallel(n_jobs = 8)(delayed(predict_w)\\\n",
    "#res = Parallel(n_jobs = 32)(delayed(predict_w)\\\n",
    "        (s,i0,i1i2,niter_max=10,l2=100.0)\\\n",
    "        for i0 in range(n_var))\n",
    "\n",
    "run_time = timeit.default_timer() - start_time\n",
    "print('run time:',run_time)\n",
    "## This above line seems wrong, seems like the following for loop should be moved up?? not sure if this is some \n",
    "## python implementation or just wrong\n",
    "#----------------niter_max,l2)\n",
    "\n",
    "#-------------------------------\n",
    "# parallel\n",
    "start_time = timeit.default_timer()\n",
    "#res = Parallel(n_jobs = 4)(delayed(predict_w)\\\n",
    "#res = Parallel(n_jobs = 8)(delayed(predict_w)\\\n",
    "res = Parallel(n_jobs = 32)(delayed(predict_w)\\\n",
    "        (s,i0,i1i2,niter_max=10,l2=100.0)\\\n",
    "        for i0 in range(n_var))\n",
    "\n",
    "run_time = timeit.default_timer() - start_time\n",
    "print('run time:',run_time)\n",
    "## This above line seems wrong, seems like the following for loop should be moved up?? not sure if this is some \n",
    "## python implementation or just wrong\n",
    "#-------------------------------\n",
    "for i0 in range(n_var):\n",
    "    i1,i2 = i1i2[i0,0],i1i2[i0,1]\n",
    "\n",
    "    h01 = res[i0][0]\n",
    "    w1 = res[i0][1]\n",
    "\n",
    "    h0[i1:i2] = h01\n",
    "    w[:i1,i1:i2] = w1[:i1,:]\n",
    "    w[i2:,i1:i2] = w1[i1:,:]\n",
    "\n",
    "# make w symmetric\n",
    "w = (w + w.T)/2.\n",
    "\n"
   ]
  },
  {
   "cell_type": "markdown",
   "metadata": {},
   "source": [
    "5. Now we want to plot a heat map of our sequence weights"
   ]
  },
  {
   "cell_type": "code",
   "execution_count": null,
   "metadata": {},
   "outputs": [],
   "source": [
    "# Verify that w is symmetric (sanity test)\n",
    "print(\"Dimensions of w: \",w.shape)"
   ]
  },
  {
   "cell_type": "code",
   "execution_count": null,
   "metadata": {},
   "outputs": [],
   "source": [
    "plt.title('inferred interactions')\n",
    "plt.imshow(w,cmap='rainbow',origin='lower')\n",
    "plt.clim(-0.1,0.1)\n",
    "plt.xlabel('i')\n",
    "plt.ylabel('j')\n",
    "plt.colorbar(fraction=0.045, pad=0.05)\n",
    "tools.hide_toggle()"
   ]
  },
  {
   "cell_type": "markdown",
   "metadata": {},
   "source": [
    "6. Plot relationship between sequence positions via Direct information"
   ]
  },
  {
   "cell_type": "code",
   "execution_count": null,
   "metadata": {},
   "outputs": [],
   "source": [
    "di = direct_info(s0,w)"
   ]
  },
  {
   "cell_type": "code",
   "execution_count": null,
   "metadata": {},
   "outputs": [],
   "source": [
    "plt.title('direct information')\n",
    "plt.imshow(di,cmap='rainbow',origin='lower')\n",
    "plt.xlabel('i')\n",
    "plt.ylabel('j')\n",
    "plt.clim(0,0.01)\n",
    "plt.colorbar(fraction=0.045, pad=0.05)"
   ]
  },
  {
   "cell_type": "markdown",
   "metadata": {},
   "source": [
    "# Plotting ER and DCA\n",
    "### Plot ER"
   ]
  },
  {
   "cell_type": "code",
   "execution_count": null,
   "metadata": {
    "scrolled": false
   },
   "outputs": [],
   "source": [
    "# find optimal threshold of distance\n",
    "ct_thres = np.linspace(1.5,10.,18,endpoint=True)\n",
    "n = ct_thres.shape[0]\n",
    "ct_mat = ct[0]\n",
    "\n",
    "auc = np.zeros(n)\n",
    "for i in range(n):\n",
    "    p,tp,fp = tools.roc_curve(ct_mat, di, ct_thres[i])\n",
    "    auc[i] = tp.sum()/tp.shape[0]\n",
    "\n",
    "#np.savetxt('auc.dat',(ct_thres,auc),fmt='%f')    \n",
    "\n",
    "#>\n",
    "# plot at optimal threshold:\n",
    "i0 = np.argmax(auc)\n",
    "print('auc max:',ct_thres[i0],auc[i0])\n",
    "p0,tp0,fp0 = tools.roc_curve(ct_mat,di,ct_thres[i0])\n",
    "\n",
    "iplot = [1,3,5,7,9,11,13]\n",
    "plt.figure(figsize=(9.0,3.2))\n",
    "\n",
    "plt.subplot2grid((1,4),(0,0))\n",
    "plt.title('ROC various thres')\n",
    "plt.plot([0,1],[0,1],'k--')\n",
    "for i in iplot:\n",
    "    p,tp,fp = tools.roc_curve(ct_mat,di,ct_thres[i])\n",
    "    plt.plot(fp,tp,label='thres = %s'%ct_thres[i])\n",
    "\n",
    "plt.xlim([0,1])\n",
    "plt.ylim([0,1])\n",
    "plt.xlabel('False Positive Rate')\n",
    "plt.ylabel('True Positive Rate')\n",
    "plt.legend()\n",
    "\n",
    "plt.subplot2grid((1,4),(0,1))\n",
    "plt.title('ROC at thres = %3.2f'%(ct_thres[i0]))\n",
    "plt.plot(fp0,tp0,'r-')\n",
    "plt.plot([0,1],[0,1],'k--')\n",
    "plt.xlim([0,1])\n",
    "plt.ylim([0,1])\n",
    "plt.xlabel('False Positive Rate')\n",
    "plt.ylabel('True Positive Rate')\n",
    "\n",
    "plt.subplot2grid((1,4),(0,2))\n",
    "plt.title('AUC max = %f' %(auc[i0]))\n",
    "plt.plot([ct_thres.min(),ct_thres.max()],[0.5,0.5],'k--')\n",
    "plt.plot(ct_thres,auc,'r-')\n",
    "plt.xlim([ct_thres.min(),ct_thres.max()])\n",
    "plt.ylim([0,auc.max()+0.1])\n",
    "plt.xlabel('distance threshold')\n",
    "plt.ylabel('AUC')\n",
    "\n",
    "plt.subplot2grid((1,4),(0,3))\n",
    "plt.title('Precision-Recall Curve')\n",
    "for i in iplot:\n",
    "    p,tp,fp = tools.roc_curve(ct_mat,di,ct_thres[i])\n",
    "    plt.plot( p,tp / (tp + fp),label='thres = %s'%ct_thres[i])\n",
    "plt.xlabel('Recall (Sensitivity - P)')\n",
    "plt.ylabel('Precision (PPV)')\n",
    "\n",
    "plt.tight_layout(h_pad=1, w_pad=1.5)\n",
    "\n",
    "\n",
    "tools.hide_toggle()"
   ]
  },
  {
   "cell_type": "code",
   "execution_count": null,
   "metadata": {},
   "outputs": [],
   "source": [
    "#print(\"Direct Information from Expectation reflection:\\n\",di)\n",
    "ER_di = di\n",
    "#print(ER_di.shape)\n",
    "#print(\"Direct Information from Expectation reflection:\\n\",di)"
   ]
  },
  {
   "cell_type": "markdown",
   "metadata": {},
   "source": [
    "### Now we want to generate DI from original DCA method for comparison\n",
    "* Want to compare AUC\n",
    "* Want to compare using figure S6 (#sequences required)"
   ]
  },
  {
   "cell_type": "code",
   "execution_count": null,
   "metadata": {},
   "outputs": [],
   "source": [
    "from inference_dca import direct_info_dca\n",
    "DCA_di = direct_info_dca(s0)"
   ]
  },
  {
   "cell_type": "markdown",
   "metadata": {},
   "source": [
    "### Plot DCA "
   ]
  },
  {
   "cell_type": "code",
   "execution_count": null,
   "metadata": {},
   "outputs": [],
   "source": [
    "# find optimal threshold of distance\n",
    "ct_thres = np.linspace(1.5,10.,18,endpoint=True)\n",
    "n = ct_thres.shape[0]\n",
    "\n",
    "auc = np.zeros(n)\n",
    "for i in range(n):\n",
    "    p,tp,fp = tools.roc_curve(ct,DCA_di,ct_thres[i])\n",
    "    auc[i] = tp.sum()/tp.shape[0]\n",
    "\n",
    "#np.savetxt('auc.dat',(ct_thres,auc),fmt='%f')    \n",
    "\n",
    "#>\n",
    "# plot at optimal threshold:\n",
    "i0 = np.argmax(auc)\n",
    "print('auc max:',ct_thres[i0],auc[i0])\n",
    "p0,tp0,fp0 = tools.roc_curve(ct,DCA_di,ct_thres[i0])\n",
    "\n",
    "iplot = [1,3,5,7,9,11,13]\n",
    "plt.figure(figsize=(9.0,3.2))\n",
    "\n",
    "plt.subplot2grid((1,4),(0,0))\n",
    "plt.title('ROC various thres')\n",
    "plt.plot([0,1],[0,1],'k--')\n",
    "for i in iplot:\n",
    "    p,tp,fp = tools.roc_curve(ct,DCA_di,ct_thres[i])\n",
    "    plt.plot(fp,tp,label='thres = %s'%ct_thres[i])\n",
    "\n",
    "plt.xlim([0,1])\n",
    "plt.ylim([0,1])\n",
    "plt.xlabel('False Positive Rate')\n",
    "plt.ylabel('True Positive Rate')\n",
    "plt.legend()\n",
    "\n",
    "plt.subplot2grid((1,4),(0,1))\n",
    "plt.title('ROC at thres = %3.2f'%(ct_thres[i0]))\n",
    "plt.plot(fp0,tp0,'r-')\n",
    "plt.plot([0,1],[0,1],'k--')\n",
    "plt.xlim([0,1])\n",
    "plt.ylim([0,1])\n",
    "plt.xlabel('False Positive Rate')\n",
    "plt.ylabel('True Positive Rate')\n",
    "\n",
    "plt.subplot2grid((1,4),(0,2))\n",
    "plt.title('AUC max = %f' %(auc[i0]))\n",
    "plt.plot([ct_thres.min(),ct_thres.max()],[0.5,0.5],'k--')\n",
    "plt.plot(ct_thres,auc,'r-')\n",
    "plt.xlim([ct_thres.min(),ct_thres.max()])\n",
    "plt.ylim([0,auc.max()+0.1])\n",
    "plt.xlabel('distance threshold')\n",
    "plt.ylabel('AUC')\n",
    "\n",
    "plt.subplot2grid((1,4),(0,3))\n",
    "plt.title('Precision-Recall Curve')\n",
    "for i in iplot:\n",
    "    p,tp,fp = tools.roc_curve(ct,di,ct_thres[i])\n",
    "    plt.plot( p,tp / (tp + fp),label='thres = %s'%ct_thres[i])\n",
    "plt.xlabel('Recall (Sensitivity - P)')\n",
    "plt.ylabel('Precision (PPV)')\n",
    "\n",
    "plt.tight_layout(h_pad=1, w_pad=1.5)\n",
    "\n",
    "tools.hide_toggle()"
   ]
  },
  {
   "cell_type": "markdown",
   "metadata": {},
   "source": [
    "## Compare Optimal DCA and ER (ct_thresh = 1.5 and 2. resp.)\n",
    "* Taking the optimal threshold for each gives comparable accuracy\n",
    "* ER Has higher accuracy for lower threshold"
   ]
  },
  {
   "cell_type": "code",
   "execution_count": null,
   "metadata": {},
   "outputs": [],
   "source": [
    "# find optimal threshold of distance for both DCA and ER\n",
    "ct_thres = np.linspace(1.5,10.,18,endpoint=True)\n",
    "n = ct_thres.shape[0]\n",
    "\n",
    "auc_DCA = np.zeros(n)\n",
    "auc_ER = np.zeros(n)\n",
    "for i in range(n):\n",
    "    p,tp,fp = tools.roc_curve(ct,DCA_di,ct_thres[i])\n",
    "    auc_DCA[i] = tp.sum()/tp.shape[0]\n",
    "    \n",
    "    p,tp,fp = tools.roc_curve(ct,ER_di,ct_thres[i])\n",
    "    auc_ER[i] = tp.sum()/tp.shape[0]\n",
    "    \n",
    "i0_DCA = np.argmax(auc_DCA)\n",
    "i0_ER = np.argmax(auc_ER)\n",
    "\n",
    "print('DCA auc max:',ct_thres[i0_DCA],auc[i0_DCA])\n",
    "p0_DCA,tp0_DCA,fp0_DCA = tools.roc_curve(ct,DCA_di,ct_thres[i0_DCA])\n",
    "print('ER auc max:',ct_thres[i0_ER],auc[i0_ER])\n",
    "p0_ER,tp0_ER,fp0_ER = tools.roc_curve(ct,ER_di,ct_thres[i0_ER])\n",
    "\n",
    "tools.hide_toggle()"
   ]
  },
  {
   "cell_type": "code",
   "execution_count": null,
   "metadata": {},
   "outputs": [],
   "source": [
    "# Plot ROC for optimal DCA vs optimal ER\n",
    "plt.subplot2grid((1,3),(0,0))\n",
    "plt.title('ROC at thres (DCA, ER)\\n = (%3.2f, %3.2f)'%(ct_thres[i0_DCA],ct_thres[i0_ER]))\n",
    "plt.plot(fp0_ER,tp0_ER,'b-',label=\"ER\")\n",
    "plt.plot(fp0_DCA,tp0_DCA,'r-',label=\"DCA\")\n",
    "plt.plot([0,1],[0,1],'k--')\n",
    "plt.xlim([0,1])\n",
    "plt.ylim([0,1])\n",
    "plt.xlabel('False Positive Rate')\n",
    "plt.ylabel('True Positive Rate')\n",
    "plt.legend()\n",
    "\n",
    "# Plot AUC for DCA and ER\n",
    "plt.subplot2grid((1,3),(0,1))\n",
    "plt.title('AUC (DCA, ER) max\\n = (%3.2f, %3.2f)' %(auc_DCA[i0_DCA], auc_ER[i0_ER]))\n",
    "plt.plot([ct_thres.min(),ct_thres.max()],[0.5,0.5],'k--')\n",
    "plt.plot(ct_thres,auc_DCA,'b-',label=\"DCA\")\n",
    "plt.plot(ct_thres,auc_ER,'r-',label=\"ER\")\n",
    "plt.xlim([ct_thres.min(),ct_thres.max()])\n",
    "plt.ylim([0,auc.max()+0.1])\n",
    "plt.xlabel('distance threshold')\n",
    "plt.ylabel('AUC')\n",
    "plt.legend()\n",
    "\n",
    "# Plot Precision of optimal DCA and ER\n",
    "plt.subplot2grid((1,3),(0,2))\n",
    "plt.title('Precision at thres \\n(DCA, ER) = (%3.2f, %3.2f)'%(ct_thres[i0_DCA],ct_thres[i0_ER]))\n",
    "plt.plot( p0_DCA,tp0_DCA / (tp0_DCA + fp0_DCA),'r-',label='DCA thres = %s'%ct_thres[i0_DCA])\n",
    "plt.plot( p0_ER,tp0_ER / (tp0_ER + fp0_ER),'b-',label='ER thres = %s'%ct_thres[i0_ER])\n",
    "plt.plot([0,1],[0,1],'k--')\n",
    "plt.xlim([0,1])\n",
    "plt.ylim([0,1])\n",
    "plt.xlabel('Recall (Sensitivity - P)')\n",
    "plt.ylabel('Precision (PPV)')\n",
    "plt.legend()\n",
    "\n",
    "plt.tight_layout(h_pad=1, w_pad=1.5)\n",
    "\n",
    "\n",
    "tools.hide_toggle()"
   ]
  },
  {
   "cell_type": "code",
   "execution_count": null,
   "metadata": {},
   "outputs": [],
   "source": []
  },
  {
   "cell_type": "code",
   "execution_count": null,
   "metadata": {},
   "outputs": [],
   "source": []
  },
  {
   "cell_type": "code",
   "execution_count": null,
   "metadata": {},
   "outputs": [],
   "source": []
  },
  {
   "cell_type": "code",
   "execution_count": null,
   "metadata": {},
   "outputs": [],
   "source": []
  },
  {
   "cell_type": "code",
   "execution_count": null,
   "metadata": {},
   "outputs": [],
   "source": []
  }
 ],
 "metadata": {
  "kernelspec": {
   "name": "pycharm-c56a07e0",
   "language": "python",
   "display_name": "PyCharm (DCA_ER)"
  },
  "language_info": {
   "codemirror_mode": {
    "name": "ipython",
    "version": 3
   },
   "file_extension": ".py",
   "mimetype": "text/x-python",
   "name": "python",
   "nbconvert_exporter": "python",
   "pygments_lexer": "ipython3",
   "version": "3.7.4"
  }
 },
 "nbformat": 4,
 "nbformat_minor": 2
}