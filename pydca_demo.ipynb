{
 "cells": [
  {
   "cell_type": "markdown",
   "metadata": {},
   "source": [
    "# pydca demo\n",
    "\n",
    "## MSA Trimming\n",
    "Here we show how to use pydca as a library. We start with by importing pydca or selected modules within pydca."
   ]
  },
  {
   "cell_type": "code",
   "execution_count": 1,
   "metadata": {},
   "outputs": [
    {
     "name": "stdout",
     "output_type": "stream",
     "text": [
      "/gpfs/gsfs8/users/cresswellclayec/DCA_ER\n",
      "3\n",
      "After removing bad sequences, tpdb is now  126\n",
      "Reference sequence (tpdb, s_ipdb) is sequence # 126\n",
      "shape of s \n",
      "import from /data/cresswellclayec/DCA_ER/Pfam-A.full/PF18577/msa.npy\n",
      " (129, 52)\n",
      "/data/cresswellclayec/DCA_ER/Pfam-A.full/PF18577\n",
      "Preprocessed: False, s dimensions:  (129, 52)\n"
     ]
    }
   ],
   "source": [
    "\"\"\"pydca demo\n",
    "\n",
    "Author: Mehari B. Zerihun\n",
    "\"\"\"\n",
    "\n",
    "# import pydca modules\n",
    "from pydca.plmdca import plmdca\n",
    "from pydca.meanfield_dca import meanfield_dca\n",
    "from pydca import sequence_backmapper\n",
    "from pydca.msa_trimmer import msa_trimmer\n",
    "from pydca.contact_visualizer import contact_visualizer\n",
    "from pydca import dca_utilities\n",
    "import os\n",
    "import pandas as pd\n",
    "import numpy as np\n",
    "\n",
    "print(os.getcwd())\n",
    "\n",
    "pfam_id = 'PF00186'\n",
    "pfam_id = 'PF18577'\n",
    "n_cpu = 26\n",
    "method = \"DI\"\n",
    "preprocess = False # do we want to preprocess FASTA files the same way as in DCA-ER method?\n",
    "\n",
    "if 0:\n",
    "    DCA_ER_dir = '/home/eclay/DCA_ER/'\n",
    "    msa_npy_file = '/home/eclay/Pfam-A.full/%s/msa.npy' % pfam_id # Hurricane Location\n",
    "    msa_fa_file  = '/home/eclay/Pfam-A.full/%s/msa.fa' % pfam_id # Hurricane Location\n",
    "    pdb_ref_file = '/home/eclay/Pfam-A.full/%s/pdb_refs.npy' % pfam_id # Hurricane Location\n",
    "if 1:\n",
    "    DCA_ER_dir = '/home/evan/PycharmProjects/DCA_ER/'\n",
    "    msa_npy_file = '/home/evan/PycharmProjects/DCA_ER/Pfam-A.full/%s/msa.npy' % pfam_id\n",
    "    msa_fa_file  = '/home/evan/PycharmProjects/DCA_ER/Pfam-A.full/%s/msa.fa' % pfam_id\n",
    "    pdb_ref_file = '/home/evan/PycharmProjects/DCA_ER/Pfam-A.full/%s/pdb_refs.npy' % pfam_id\n",
    "    out_dir = '%sprotein_data/di/' % DCA_ER_dir\n",
    "if 0:\n",
    "    DCA_ER_dir = '/home/ecresswell/DCA_ER/'\n",
    "    msa_npy_file = '/home/ecresswell/DCA_ER/Pfam-A.full/%s/msa.npy' % pfam_id\n",
    "    msa_fa_file  = '/home/ecresswell/DCA_ER/Pfam-A.full/%s/msa.fa' % pfam_id\n",
    "    pdb_ref_file = '/home/ecresswell/DCA_ER/Pfam-A.full/%s/pdb_refs.npy' % pfam_id\n",
    "    out_dir = '%sprotein_data/di/' % DCA_ER_dir\n",
    "if 1:\n",
    "    DCA_ER_dir = '/data/cresswellclayec/DCA_ER/'\n",
    "    msa_npy_file = '/data/cresswellclayec/DCA_ER/Pfam-A.full/%s/msa.npy' % pfam_id\n",
    "    msa_fa_file  = '/data/cresswellclayec/DCA_ER/Pfam-A.full/%s/msa.fa' % pfam_id\n",
    "    pdb_ref_file = '/data/cresswellclayec/DCA_ER/Pfam-A.full/%s/pdb_refs.npy' % pfam_id\n",
    "    out_dir = '%sprotein_data/di/' % DCA_ER_dir\n",
    "\n",
    "\n",
    "# os.chdir('/home/evan/PycharmProjects/DCA_ER')\n",
    "# os.chdir('/home/eclay/DCA_ER') # Hurrican Location\n",
    "os.chdir(DCA_ER_dir)\n",
    "ipdb = 0\n",
    "from ecc_tools import npy2fa\n",
    "if not preprocess:\n",
    "    msa_outfile, ref_outfile, s = npy2fa(pfam_id, msa_npy_file, pdb_ref_file=pdb_ref_file, ipdb=ipdb, preprocess=preprocess)\n",
    "else:\n",
    "    msa_outfile, ref_outfile, s, cols_removed, s_index, tpdb, orig_seq_len  = npy2fa(pfam_id, msa_npy_file, pdb_ref_file=pdb_ref_file, ipdb=ipdb, preprocess=preprocess,\n",
    "                                                                                      gap_seqs=.2, gap_cols=.2, prob_low=.004, conserved_cols=.9)\n",
    "\n",
    "    print('Saved pre-processed msa to %s' % msa_outfile)\n",
    "    # print(s)\n",
    "    # print(s.shape)\n",
    "    gap_pdb = s[tpdb] == '-'  # returns True/False for gaps/no gaps in reference sequence            \n",
    "    s_gap = s[:, ~gap_pdb]  # removes gaps in reference sequence                                     \n",
    "    print(gap_pdb)\n",
    "    ref_s = s_gap[tpdb]\n",
    "    print(s[tpdb])\n",
    "    print(s[tpdb].shape)\n",
    "    print(ref_s)\n",
    "    print(ref_s.shape)\n",
    "    print(s.shape)\n",
    "#     for col_i in range(s.shape[1]):\n",
    "#         if col_i in cols_removed:\n",
    "#             print(s[tpdb,col_i])\n",
    "#             print(s[:,col_i])\n",
    "\n",
    "\n",
    "print('Preprocessed: %r, s dimensions: ' % preprocess, s.shape)"
   ]
  },
  {
   "cell_type": "code",
   "execution_count": 2,
   "metadata": {
    "pycharm": {
     "is_executing": true
    }
   },
   "outputs": [],
   "source": [
    "# create MSATrimmer instance \n",
    "trimmer = msa_trimmer.MSATrimmer(\n",
    "    str(msa_outfile), biomolecule='protein', \n",
    "    refseq_file=str(ref_outfile),\n",
    ")\n",
    "\n",
    "trimmed_data = trimmer.get_msa_trimmed_by_refseq(remove_all_gaps=True)\n",
    "\n",
    "#write trimmed msa to file in FASTA format\n",
    "trimmed_data_outfile = '%sprotein_data/data_processing_output/MSA_%s_Trimmed.fa' % (DCA_ER_dir, pfam_id)\n",
    "with open(trimmed_data_outfile, 'w') as fh:\n",
    "    for seqid, seq in trimmed_data:\n",
    "        fh.write('>{}\\n{}\\n'.format(seqid, seq))\n",
    "        "
   ]
  },
  {
   "cell_type": "markdown",
   "metadata": {},
   "source": [
    "In the above, we have imported pydca or selected modules from pydca. Then we use the MSA and reference sequence fasta files (generated from orignal parsed sequences in numpy format). Following that we created an MSATrimmer instance which enabled us to trim the MSA file. Finally, we write the trimmed MSA data to an trimmed output file  in FASTA format. Next we carry out DCA computations using the trimmed MSA.\n",
    "\n",
    "## DCA Computation Using Pseudolikelihood Maximization Algorithm (plmDCA)"
   ]
  },
  {
   "cell_type": "code",
   "execution_count": 3,
   "metadata": {
    "pycharm": {
     "is_executing": true
    }
   },
   "outputs": [],
   "source": [
    "# Compute DCA scores using Pseudolikelihood maximization algorithm\n",
    "\n",
    "plmdca_inst = plmdca.PlmDCA(\n",
    "    trimmed_data_outfile,\n",
    "    'protein',\n",
    "    seqid = 0.8,\n",
    "    lambda_h = 1.0,\n",
    "    lambda_J = 20.0,\n",
    "    num_threads =n_cpu,\n",
    "    max_iterations = 500,\n",
    ")\n",
    "\n",
    "if preprocess:\n",
    "    plm_out_file = '%s%s_%s_pydca_plm_preproc.npy' % (out_dir, pfam_id, method)\n",
    "else:\n",
    "    plm_out_file = '%s%s_%s_pydca_plm.npy' % (out_dir, pfam_id, method)\n",
    "\n",
    "if 0: #os.path.exists(plm_out_file):\n",
    "    plmdca_scores = np.load(plm_out_file)\n",
    "else:\n",
    "    # compute PLM DCA scores summarized by various methods:\n",
    "    # FN_APC: Frobenius norm and average product corrected\n",
    "    # DI_APC: raw DI with average product correction\n",
    "    # DI: raw DI score\n",
    "    # FN: Frobenius norm of raw DI\n",
    "    if method == \"DI_APC\":\n",
    "        plmdca_scores = plmdca_inst.compute_sorted_DI_APC()\n",
    "    if method == \"DI\":\n",
    "        plmdca_scores = plmdca_inst.compute_sorted_DI()\n",
    "    if method == \"FN_APC\":\n",
    "          plmdca_scores = plmdca_inst.compute_sorted_FN_APC()\n",
    "    if method == \"FN\":\n",
    "        plmdca_scores = plmdca_inst.compute_sorted_FN()\n"
   ]
  },
  {
   "cell_type": "markdown",
   "metadata": {},
   "source": [
    "In the above, we created a PlmDCA instance `plmdca_inst`  for RNA. Notice that we used the trimmed MSA data we obtained before.  We also set the values of optional parameters. The optional parameters `num_threads` is set to 10. If `pydca` is installed without OpenMP support, we cannot set the number of threads more than one. Finally we computed the DCA scores from the Frobenius norm of the couplings by calling the `compute_sorted_FN_APC()` method on `plmdca_inst`. This action returns the average product corrected (APC) DCA scores. Let us print the top five site pairs and their DCA scores."
   ]
  },
  {
   "cell_type": "code",
   "execution_count": 4,
   "metadata": {
    "pycharm": {
     "is_executing": true
    }
   },
   "outputs": [],
   "source": [
    "# for site_pair, score in plmdca_scores[:5]:\n",
    "#     print(site_pair, score)\n",
    "# Save the scores for future use/comparison\n",
    "np.save(plm_out_file, plmdca_scores)"
   ]
  },
  {
   "cell_type": "markdown",
   "metadata": {},
   "source": [
    "We have displayed the top five site pairs ranked by their DCA scores. The first column is a tuple of site-pairs and the second column contains the DCA scores obtained from the Frobenius norm of the couplings. Note that the site pairs are arranged in the form (i, j) such that j > i."
   ]
  },
  {
   "cell_type": "markdown",
   "metadata": {},
   "source": [
    "## DCA Computation Using Mean-Field Algorithm (mfDCA)"
   ]
  },
  {
   "cell_type": "code",
   "execution_count": 5,
   "metadata": {
    "pycharm": {
     "is_executing": true
    },
    "scrolled": true
   },
   "outputs": [],
   "source": [
    "#create mean-field DCA instance \n",
    "mfdca_inst = meanfield_dca.MeanFieldDCA(\n",
    "    trimmed_data_outfile,\n",
    "    'protein',\n",
    "    pseudocount = 0.5,\n",
    "    seqid = 0.8,\n",
    "\n",
    ")\n",
    "\n",
    "if preprocess:\n",
    "    mf_out_file = '%s%s_%s_pydca_mf_preproc.npy' % (out_dir, pfam_id, method)\n",
    "else:\n",
    "    mf_out_file = '%s%s_%s_pydca_mf.npy' % (out_dir, pfam_id, method)\n",
    "\n",
    "if 0: #os.path.exists(mf_out_file):\n",
    "    mfdca_scores = np.load(mf_out_file)\n",
    "else:\n",
    "    # compute MF DCA scores summarized by various methods:\n",
    "    # FN_APC: Frobenius norm and average product corrected\n",
    "    # DI_APC: raw DI with average product correction\n",
    "    # DI: raw DI score\n",
    "    # FN: Frobenius norm of raw DI\n",
    "    if method == \"DI_APC\":\n",
    "        mfdca_scores = mfdca_inst.compute_sorted_DI_APC()\n",
    "    if method == \"DI\":\n",
    "        mfdca_scores = mfdca_inst.compute_sorted_DI()\n",
    "    if method == \"FN_APC\":\n",
    "        mfdca_scores = mfdca_inst.compute_sorted_FN_APC()\n",
    "    if method == \"FN\":\n",
    "        mfdca_scores = mfdca_inst.compute_sorted_FN()\n",
    "\n",
    "        \n"
   ]
  },
  {
   "cell_type": "code",
   "execution_count": 6,
   "metadata": {},
   "outputs": [
    {
     "name": "stdout",
     "output_type": "stream",
     "text": [
      "(940, 940)\n",
      "45\n",
      "46\n"
     ]
    }
   ],
   "source": [
    "sequences_weight = mfdca_inst.compute_sequences_weight()\n",
    "fi = mfdca_inst.get_single_site_freqs()\n",
    "fij = mfdca_inst.get_pair_site_freqs()\n",
    "reg_fi = mfdca_inst.get_reg_single_site_freqs()                                               \n",
    "reg_fij = mfdca_inst.get_reg_pair_site_freqs()                                               \n",
    "corr_mat = mfdca_inst.construct_corr_mat(reg_fi, reg_fij)                                                                             \n",
    "couplings = mfdca_inst.compute_couplings(corr_mat)        \n",
    "fields_ij = mfdca_inst.compute_two_site_model_fields(couplings, reg_fi)\n",
    "np.save('%s%s_pydca_fields_preproc.npy' % (out_dir, pfam_id), fields_ij)\n",
    "np.save('%s%s_pydca_couplings_preproc.npy' % (out_dir, pfam_id), couplings)\n",
    "np.save('%s%s_pydca_corr_preproc.npy' % (out_dir, pfam_id), corr_mat)\n",
    "np.save('%s%s_pydca_unreg_fij_preproc.npy' % (out_dir, pfam_id), fij)\n",
    "np.save('%s%s_pydca_unreg_fi_preproc.npy' % (out_dir, pfam_id), fi)\n",
    "np.save('%s%s_pydca_fij_preproc.npy' % (out_dir, pfam_id), reg_fij)\n",
    "np.save('%s%s_pydca_fi_preproc.npy' % (out_dir, pfam_id), reg_fi)\n",
    "np.save('%s%s_pydca_seq_weight_preproc.npy' % (out_dir, pfam_id), sequences_weight)\n",
    "print(couplings.shape)\n",
    "index_i = []\n",
    "index_j = []\n",
    "for [(i, j), score] in mfdca_scores:\n",
    "    index_i.append(i)\n",
    "    index_j.append(j)\n",
    "print(max(index_i))\n",
    "print(max(index_j))"
   ]
  },
  {
   "cell_type": "markdown",
   "metadata": {},
   "source": [
    "In the above, we created a mean-field DCA instance `mfdca_inst`. We set the optional parameters `pseudocount` and `seqid` to be `0.5` and `0.8`, respectively. Like in the plmDCA we computed the DCA scores from the Frobenius norm of the couplings and average product corrected. using `compute_sorted_FN_APC` method of `mfdca_inst`. Let us print the top five ranked site pairs."
   ]
  },
  {
   "cell_type": "code",
   "execution_count": 7,
   "metadata": {
    "pycharm": {
     "is_executing": true
    },
    "scrolled": true
   },
   "outputs": [
    {
     "name": "stdout",
     "output_type": "stream",
     "text": [
      "(16, 19) 0.473358557698491\n",
      "(10, 29) 0.4619838846917417\n",
      "(10, 42) 0.4314340300897064\n",
      "(17, 31) 0.4234776501104844\n",
      "(11, 23) 0.40895183531441387\n"
     ]
    }
   ],
   "source": [
    "for site_pair, score in mfdca_scores[:5]:\n",
    "    print(site_pair, score)\n",
    "    \n",
    "# Save the scores for future use/comparison\n",
    "np.save(mf_out_file, mfdca_scores)"
   ]
  },
  {
   "cell_type": "markdown",
   "metadata": {},
   "source": [
    "## Plotting Contact Map and True Positive Rates\n",
    "\n",
    "Next  we plot the contact map and true positive rates of DCA scores computed using the two methods (plmDCA and mfDCA)\n",
    "### Contact Map and True Positive Rate for PlmDCA Scores"
   ]
  },
  {
   "cell_type": "code",
   "execution_count": 8,
   "metadata": {
    "pycharm": {
     "is_executing": true
    }
   },
   "outputs": [
    {
     "name": "stdout",
     "output_type": "stream",
     "text": [
      "number of pdb structures: 5\n"
     ]
    },
    {
     "name": "stderr",
     "output_type": "stream",
     "text": [
      "\n",
      "\tUnable to obtain standared residues for chain E of the PDB file 5J67_downloaded.pdb\n"
     ]
    },
    {
     "ename": "PDBContentException",
     "evalue": "",
     "output_type": "error",
     "traceback": [
      "\u001b[0;31m---------------------------------------------------------------------------\u001b[0m",
      "\u001b[0;31mPDBContentException\u001b[0m                       Traceback (most recent call last)",
      "\u001b[0;32m<ipython-input-8-4ae797a8bcd5>\u001b[0m in \u001b[0;36m<module>\u001b[0;34m\u001b[0m\n\u001b[1;32m     32\u001b[0m     \u001b[0msorted_dca_scores\u001b[0m \u001b[0;34m=\u001b[0m \u001b[0mplmdca_scores\u001b[0m\u001b[0;34m,\u001b[0m\u001b[0;34m\u001b[0m\u001b[0;34m\u001b[0m\u001b[0m\n\u001b[1;32m     33\u001b[0m     \u001b[0mlinear_dist\u001b[0m \u001b[0;34m=\u001b[0m \u001b[0;36m4\u001b[0m\u001b[0;34m,\u001b[0m\u001b[0;34m\u001b[0m\u001b[0;34m\u001b[0m\u001b[0m\n\u001b[0;32m---> 34\u001b[0;31m     \u001b[0mcontact_dist\u001b[0m \u001b[0;34m=\u001b[0m \u001b[0;36m5.0\u001b[0m\u001b[0;34m,\u001b[0m\u001b[0;34m\u001b[0m\u001b[0;34m\u001b[0m\u001b[0m\n\u001b[0m\u001b[1;32m     35\u001b[0m )\n",
      "\u001b[0;32m/data/cresswellclayec/conda/envs/PYDCA/lib/python3.6/site-packages/pydca/contact_visualizer/contact_visualizer.py\u001b[0m in \u001b[0;36m__init__\u001b[0;34m(self, biomolecule, pdb_chain_id, pdb_file, refseq_file, dca_file, sorted_dca_scores, rna_secstruct_file, linear_dist, contact_dist, num_dca_contacts, wc_neighbor_dist, pdb_id)\u001b[0m\n\u001b[1;32m    970\u001b[0m         \u001b[0mself\u001b[0m\u001b[0;34m.\u001b[0m\u001b[0m__pdb_file\u001b[0m \u001b[0;34m=\u001b[0m \u001b[0mpdb_file\u001b[0m\u001b[0;34m\u001b[0m\u001b[0;34m\u001b[0m\u001b[0m\n\u001b[1;32m    971\u001b[0m         self.__pdb_content = PDBContent(self.__pdb_file,\n\u001b[0;32m--> 972\u001b[0;31m             \u001b[0mbiomolecule\u001b[0m \u001b[0;34m=\u001b[0m \u001b[0mself\u001b[0m\u001b[0;34m.\u001b[0m\u001b[0m__biomolecule\u001b[0m\u001b[0;34m,\u001b[0m\u001b[0;34m\u001b[0m\u001b[0;34m\u001b[0m\u001b[0m\n\u001b[0m\u001b[1;32m    973\u001b[0m         )\n\u001b[1;32m    974\u001b[0m         \u001b[0mself\u001b[0m\u001b[0;34m.\u001b[0m\u001b[0m__pdb_chain_id\u001b[0m \u001b[0;34m=\u001b[0m \u001b[0mpdb_chain_id\u001b[0m\u001b[0;34m.\u001b[0m\u001b[0mstrip\u001b[0m\u001b[0;34m(\u001b[0m\u001b[0;34m)\u001b[0m\u001b[0;34m.\u001b[0m\u001b[0mupper\u001b[0m\u001b[0;34m(\u001b[0m\u001b[0;34m)\u001b[0m\u001b[0;34m\u001b[0m\u001b[0;34m\u001b[0m\u001b[0m\n",
      "\u001b[0;32m/data/cresswellclayec/conda/envs/PYDCA/lib/python3.6/site-packages/pydca/contact_visualizer/contact_visualizer.py\u001b[0m in \u001b[0;36m__init__\u001b[0;34m(self, pdb_file, biomolecule)\u001b[0m\n\u001b[1;32m    149\u001b[0m         \u001b[0mself\u001b[0m\u001b[0;34m.\u001b[0m\u001b[0m__biomolecule\u001b[0m \u001b[0;34m=\u001b[0m \u001b[0mbiomolecule\u001b[0m\u001b[0;34m\u001b[0m\u001b[0;34m\u001b[0m\u001b[0m\n\u001b[1;32m    150\u001b[0m         \u001b[0mself\u001b[0m\u001b[0;34m.\u001b[0m\u001b[0m__pdb_structure\u001b[0m \u001b[0;34m=\u001b[0m  \u001b[0mself\u001b[0m\u001b[0;34m.\u001b[0m\u001b[0mget_pdb_structure\u001b[0m\u001b[0;34m(\u001b[0m\u001b[0;34m)\u001b[0m\u001b[0;34m\u001b[0m\u001b[0;34m\u001b[0m\u001b[0m\n\u001b[0;32m--> 151\u001b[0;31m         \u001b[0mself\u001b[0m\u001b[0;34m.\u001b[0m\u001b[0m__pdb_chain_sequences\u001b[0m \u001b[0;34m=\u001b[0m \u001b[0mself\u001b[0m\u001b[0;34m.\u001b[0m\u001b[0mcollect_chain_sequences\u001b[0m\u001b[0;34m(\u001b[0m\u001b[0;34m)\u001b[0m\u001b[0;34m\u001b[0m\u001b[0;34m\u001b[0m\u001b[0m\n\u001b[0m\u001b[1;32m    152\u001b[0m         \u001b[0;32mreturn\u001b[0m \u001b[0;32mNone\u001b[0m\u001b[0;34m\u001b[0m\u001b[0;34m\u001b[0m\u001b[0m\n\u001b[1;32m    153\u001b[0m \u001b[0;34m\u001b[0m\u001b[0m\n",
      "\u001b[0;32m/data/cresswellclayec/conda/envs/PYDCA/lib/python3.6/site-packages/pydca/contact_visualizer/contact_visualizer.py\u001b[0m in \u001b[0;36mcollect_chain_sequences\u001b[0;34m(self)\u001b[0m\n\u001b[1;32m    400\u001b[0m                     \u001b[0;34m' for chain {} of the PDB file {}'\u001b[0m\u001b[0;34m.\u001b[0m\u001b[0mformat\u001b[0m\u001b[0;34m(\u001b[0m\u001b[0mchain_id\u001b[0m\u001b[0;34m,\u001b[0m \u001b[0mself\u001b[0m\u001b[0;34m.\u001b[0m\u001b[0m__pdb_file\u001b[0m\u001b[0;34m)\u001b[0m\u001b[0;34m\u001b[0m\u001b[0;34m\u001b[0m\u001b[0m\n\u001b[1;32m    401\u001b[0m                 )\n\u001b[0;32m--> 402\u001b[0;31m                 \u001b[0;32mraise\u001b[0m \u001b[0mPDBContentException\u001b[0m\u001b[0;34m\u001b[0m\u001b[0;34m\u001b[0m\u001b[0m\n\u001b[0m\u001b[1;32m    403\u001b[0m             \u001b[0mres_id_list\u001b[0m \u001b[0;34m=\u001b[0m  \u001b[0mlist\u001b[0m\u001b[0;34m(\u001b[0m\u001b[0;34m)\u001b[0m\u001b[0;34m\u001b[0m\u001b[0;34m\u001b[0m\u001b[0m\n\u001b[1;32m    404\u001b[0m             \u001b[0;32mfor\u001b[0m \u001b[0mres\u001b[0m \u001b[0;32min\u001b[0m \u001b[0mstandard_residues\u001b[0m\u001b[0;34m:\u001b[0m\u001b[0;34m\u001b[0m\u001b[0;34m\u001b[0m\u001b[0m\n",
      "\u001b[0;31mPDBContentException\u001b[0m: "
     ]
    }
   ],
   "source": [
    "# ---------------------- We need to get pdb information for the contact visualizer --------------------------#\n",
    "# Define pdb-references for Protein Family\n",
    "\n",
    "os.chdir(DCA_ER_dir)\n",
    "\n",
    "# Set DCA_ER directory\n",
    "DCA_dir = os.getcwd()\n",
    "\n",
    "pdb = np.load(pdb_ref_file)\n",
    "processed_data_dir = \"%s/protein_data/data_processing_output\" % DCA_dir\n",
    "\n",
    "# delete 'b' in front of letters (python 2 --> python 3)\n",
    "pdb = np.array([pdb[t,i].decode('UTF-8') for t in range(pdb.shape[0]) \\\n",
    "         for i in range(pdb.shape[1])]).reshape(pdb.shape[0],pdb.shape[1])\n",
    "\n",
    "# Print number of pdb structures in Protein ID folder\n",
    "npdb = pdb.shape[0]\n",
    "print('number of pdb structures:',npdb)\n",
    "\n",
    "# Create pandas dataframe for protein structure\n",
    "pdb_df = pd.DataFrame(pdb,columns = ['PF','seq','id','uniprot_start','uniprot_start',\\\n",
    "                                 'pdb_id','chain','pdb_start','pdb_end'])\n",
    "pdb_df.head()\n",
    "pdb_id = pdb_df.iloc[ipdb]['pdb_id']\n",
    "pdb_chain = pdb_df.iloc[ipdb]['chain']\n",
    "# -----------------------------------------------------------------------------------------------------------#\n",
    "\n",
    "\n",
    "\n",
    "plmdca_visualizer = contact_visualizer.DCAVisualizer('protein', pdb_chain, pdb_id,\n",
    "    refseq_file = str(ref_outfile),\n",
    "    sorted_dca_scores = plmdca_scores,\n",
    "    linear_dist = 4,\n",
    "    contact_dist = 5.0,\n",
    ")"
   ]
  },
  {
   "cell_type": "markdown",
   "metadata": {},
   "source": [
    "Now we have created an instance of `DCAVisualizer`. It takes the type of biomolecule ('rna') , PDB chain ('x'), PDB ID ('1y26'). In addition we have specified reference sequence file, list of sorted DCA scores, linear distance and contact distnace.  When we execute the above cell we see a warning `You didn't supply RNA secondary structure file`. Since supplying an RNA secondary structure file is optional, we can ignore the warning. Next we plot the contact map and true postive rates."
   ]
  },
  {
   "cell_type": "code",
   "execution_count": null,
   "metadata": {
    "pycharm": {
     "is_executing": true
    }
   },
   "outputs": [],
   "source": [
    "contact_map_data = plmdca_visualizer.plot_contact_map()"
   ]
  },
  {
   "cell_type": "code",
   "execution_count": null,
   "metadata": {
    "pycharm": {
     "is_executing": true
    }
   },
   "outputs": [],
   "source": [
    "tp_rate_data = plmdca_visualizer.plot_true_positive_rates()"
   ]
  },
  {
   "cell_type": "markdown",
   "metadata": {},
   "source": [
    "### Contact Map and True Positive Rate for Mean-Field DCA Scores\n",
    "\n",
    "Like DCA scores computed using the plmDCA algorithm, we can visualize contact map and true positive rates for mfDCA computed DCA scores as shown below."
   ]
  },
  {
   "cell_type": "code",
   "execution_count": null,
   "metadata": {
    "pycharm": {
     "is_executing": true
    }
   },
   "outputs": [],
   "source": [
    "mfdca_visualizer = contact_visualizer.DCAVisualizer('protein', pdb_chain, pdb_id,\n",
    "    refseq_file = str(ref_outfile),\n",
    "    sorted_dca_scores = mfdca_scores,\n",
    "    linear_dist = 4,\n",
    "    contact_dist = 5.0,\n",
    ")"
   ]
  },
  {
   "cell_type": "code",
   "execution_count": null,
   "metadata": {
    "pycharm": {
     "is_executing": true
    }
   },
   "outputs": [],
   "source": [
    "contact_map_data = mfdca_visualizer.plot_contact_map()"
   ]
  },
  {
   "cell_type": "code",
   "execution_count": null,
   "metadata": {
    "pycharm": {
     "is_executing": true
    }
   },
   "outputs": [],
   "source": [
    "tp_rate_data = mfdca_visualizer.plot_true_positive_rates()"
   ]
  },
  {
   "cell_type": "markdown",
   "metadata": {},
   "source": [
    "### Computing Fields and Couplings\n",
    "\n",
    "We can also compute the fields and couplings of the global probability model. That is the $h_{i}$s and $J_{ij}$s in the expression $P(a_{1}, a_{2}, ..., a_{L}) =\\frac{1}{Z}\\exp(\\sum_{i<j} J_{ij}(a_{i}, a_{j}) + \\sum_{i} h_{i}(a_{i}))$. In pydca these parameters can be computed using either the mean-field DCA algorithm or the pseudolikelihood maximization DCA algorithm."
   ]
  },
  {
   "cell_type": "code",
   "execution_count": null,
   "metadata": {
    "pycharm": {
     "is_executing": true
    }
   },
   "outputs": [],
   "source": [
    "# fields_plm, couplings_plm = plmdca_inst.compute_params(ranked_by='di_apc', num_site_pairs=100)\n"
   ]
  },
  {
   "cell_type": "markdown",
   "metadata": {},
   "source": [
    "Or using the mean-field algorithm as:"
   ]
  },
  {
   "cell_type": "code",
   "execution_count": null,
   "metadata": {
    "pycharm": {
     "is_executing": true
    }
   },
   "outputs": [],
   "source": [
    "# fields_mf, couplings_mf = mfdca_inst.compute_params(ranked_by='fn_apc', num_site_pairs=200)"
   ]
  },
  {
   "cell_type": "markdown",
   "metadata": {},
   "source": [
    "When we compute the fields and couplings, we can specify a ranking method for the couplings so that the site pairs for the couplings are ordered according to the ranking method.  In the above examples, we used 'di_apc' for the PlmDCA and 'fn_apc' for the mfDCA algorithms. 'di_apc' stands for the ranking method is average product corrected direct information scores, whereas 'fn_apc' implies average corrected Frobenius norm."
   ]
  },
  {
   "cell_type": "code",
   "execution_count": null,
   "metadata": {
    "pycharm": {
     "is_executing": true
    }
   },
   "outputs": [],
   "source": []
  },
  {
   "cell_type": "code",
   "execution_count": null,
   "metadata": {
    "pycharm": {
     "is_executing": true
    }
   },
   "outputs": [],
   "source": []
  }
 ],
 "metadata": {
  "file_extension": ".py",
  "kernelspec": {
   "display_name": "Python 3",
   "language": "python",
   "name": "python3"
  },
  "language_info": {
   "codemirror_mode": {
    "name": "ipython",
    "version": 3
   },
   "file_extension": ".py",
   "mimetype": "text/x-python",
   "name": "python",
   "nbconvert_exporter": "python",
   "pygments_lexer": "ipython3",
   "version": "3.6.13"
  },
  "mimetype": "text/x-python",
  "name": "python",
  "npconvert_exporter": "python",
  "pygments_lexer": "ipython3",
  "version": 3
 },
 "nbformat": 4,
 "nbformat_minor": 2
}
