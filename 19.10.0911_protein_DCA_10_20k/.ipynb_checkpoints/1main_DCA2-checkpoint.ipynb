{
 "cells": [
  {
   "cell_type": "markdown",
   "metadata": {},
   "source": [
    "## Predict 3D structure of proteins using DCA"
   ]
  },
  {
   "cell_type": "code",
   "execution_count": null,
   "metadata": {},
   "outputs": [],
   "source": [
    "import numpy as np\n",
    "import pandas as pd\n",
    "from scipy import linalg\n",
    "from sklearn.preprocessing import OneHotEncoder\n",
    "#import emachine as EM\n",
    "#import expectation_reflection as ER\n",
    "import inference_dca as DCA\n",
    "from direct_info import direct_info\n",
    "\n",
    "from data_processing import data_processing\n",
    "import Bio.PDB, warnings\n",
    "pdb_list = Bio.PDB.PDBList()\n",
    "pdb_parser = Bio.PDB.PDBParser()\n",
    "from scipy.spatial import distance_matrix\n",
    "from Bio import BiopythonWarning\n",
    "warnings.simplefilter('ignore', BiopythonWarning)\n",
    "\n",
    "from scipy.sparse import csr_matrix\n",
    "from joblib import Parallel, delayed\n",
    "import timeit\n",
    "\n",
    "import matplotlib.pyplot as plt\n",
    "%matplotlib inline"
   ]
  },
  {
   "cell_type": "code",
   "execution_count": null,
   "metadata": {},
   "outputs": [],
   "source": [
    "np.random.seed(1)"
   ]
  },
  {
   "cell_type": "code",
   "execution_count": null,
   "metadata": {},
   "outputs": [],
   "source": [
    "data_path = '../../protein/Pfam-A.full'"
   ]
  },
  {
   "cell_type": "markdown",
   "metadata": {},
   "source": [
    "### Contact map from PDB structure"
   ]
  },
  {
   "cell_type": "markdown",
   "metadata": {},
   "source": [
    "We select a specific protein to consider."
   ]
  },
  {
   "cell_type": "code",
   "execution_count": null,
   "metadata": {},
   "outputs": [],
   "source": [
    "pfam_id = 'PF00014'"
   ]
  },
  {
   "cell_type": "markdown",
   "metadata": {},
   "source": [
    "Read protein structures from protein data bank (PDB)."
   ]
  },
  {
   "cell_type": "code",
   "execution_count": null,
   "metadata": {},
   "outputs": [],
   "source": [
    "# read data\n",
    "pdb = np.load('%s/%s/pdb_refs.npy'%(data_path,pfam_id))\n",
    "\n",
    "# delete 'b' in front of letters (python 2 --> python 3)\n",
    "pdb = np.array([pdb[t,i].decode('UTF-8') for t in range(pdb.shape[0]) \\\n",
    "         for i in range(pdb.shape[1])]).reshape(pdb.shape[0],pdb.shape[1])\n",
    "\n",
    "npdb = pdb.shape[0]\n",
    "print('number of pdb structures:',npdb)"
   ]
  },
  {
   "cell_type": "code",
   "execution_count": null,
   "metadata": {},
   "outputs": [],
   "source": [
    "df = pd.DataFrame(pdb,columns = ['PF','seq','id','uniprot_start','uniprot_start',\\\n",
    "                                 'pdb_id','chain','pdb_start','pdb_end'])\n",
    "df.head()"
   ]
  },
  {
   "cell_type": "markdown",
   "metadata": {},
   "source": [
    "We select a PDB structure by (choising a specific value for `ipdb`) and calculate the contact map of this PDB structure."
   ]
  },
  {
   "cell_type": "code",
   "execution_count": null,
   "metadata": {},
   "outputs": [],
   "source": [
    "def contact_map(pdb,ipdb,cols_removed):\n",
    "    pdb_id = pdb[ipdb,5]\n",
    "    pdb_chain = pdb[ipdb,6]\n",
    "    pdb_start,pdb_end = int(pdb[ipdb,7]),int(pdb[ipdb,8])\n",
    "    #print('pdb id, chain, start, end, length:',pdb_id,pdb_chain,pdb_start,pdb_end,pdb_end-pdb_start+1)\n",
    "\n",
    "    #print('download pdb file')\n",
    "    pdb_file = pdb_list.retrieve_pdb_file(pdb_id,file_format='pdb')\n",
    "    #pdb_file = pdb_list.retrieve_pdb_file(pdb_id)\n",
    "    chain = pdb_parser.get_structure(pdb_id,pdb_file)[0][pdb_chain]\n",
    "    coords_all = np.array([a.get_coord() for a in chain.get_atoms()])\n",
    "    coords = coords_all[pdb_start-1:pdb_end]\n",
    "    #print('original pdb:')\n",
    "    #print(coords.shape)\n",
    "\n",
    "    coords_remain = np.delete(coords,cols_removed,axis=0)\n",
    "    #print(coords_remain.shape)\n",
    "\n",
    "    ct = distance_matrix(coords_remain,coords_remain)\n",
    "\n",
    "    return ct"
   ]
  },
  {
   "cell_type": "code",
   "execution_count": null,
   "metadata": {},
   "outputs": [],
   "source": [
    "ipdb = 0\n",
    "print('seq:',int(pdb[ipdb,1]))\n",
    "\n",
    "# data processing\n",
    "s0,cols_removed = data_processing(data_path,pfam_id,ipdb,\\\n",
    "                gap_seqs=0.2,gap_cols=0.2,prob_low=0.004,conserved_cols=0.9)\n",
    "\n",
    "ct = contact_map(pdb,ipdb,cols_removed)"
   ]
  },
  {
   "cell_type": "markdown",
   "metadata": {},
   "source": [
    "We plot the contact map."
   ]
  },
  {
   "cell_type": "code",
   "execution_count": null,
   "metadata": {},
   "outputs": [],
   "source": [
    "plt.title('contact map')\n",
    "plt.imshow(ct,cmap='rainbow_r',origin='lower')\n",
    "plt.xlabel('i')\n",
    "plt.ylabel('j')\n",
    "plt.colorbar(fraction=0.045, pad=0.05)"
   ]
  },
  {
   "cell_type": "markdown",
   "metadata": {},
   "source": [
    "### Dirrect information measuring the interaction between positions"
   ]
  },
  {
   "cell_type": "code",
   "execution_count": null,
   "metadata": {},
   "outputs": [],
   "source": [
    "di = DCA.direct_info_dca(s0)"
   ]
  },
  {
   "cell_type": "code",
   "execution_count": null,
   "metadata": {},
   "outputs": [],
   "source": [
    "plt.title('direct information')\n",
    "plt.imshow(di,cmap='rainbow',origin='lower')\n",
    "plt.xlabel('i')\n",
    "plt.ylabel('j')\n",
    "plt.clim(0,0.1)\n",
    "plt.colorbar(fraction=0.045, pad=0.05)"
   ]
  },
  {
   "cell_type": "markdown",
   "metadata": {},
   "source": [
    "### ROC curve"
   ]
  },
  {
   "cell_type": "code",
   "execution_count": null,
   "metadata": {},
   "outputs": [],
   "source": [
    "def roc_curve(ct,di,ct_thres):    \n",
    "    ct1 = ct.copy()\n",
    "    \n",
    "    ct_pos = ct1 < ct_thres           \n",
    "    ct1[ct_pos] = 1\n",
    "    ct1[~ct_pos] = 0\n",
    "\n",
    "    mask = np.triu(np.ones(di.shape[0],dtype=bool), k=1)\n",
    "    order = di[mask].argsort()[::-1]\n",
    "\n",
    "    ct_flat = ct1[mask][order]\n",
    "\n",
    "    tp = np.cumsum(ct_flat, dtype=float)\n",
    "    fp = np.cumsum(~ct_flat.astype(int), dtype=float)\n",
    "\n",
    "    if tp[-1] != 0:\n",
    "        tp /= tp[-1]\n",
    "        fp /= fp[-1]\n",
    "    \n",
    "    return tp,fp"
   ]
  },
  {
   "cell_type": "code",
   "execution_count": null,
   "metadata": {},
   "outputs": [],
   "source": [
    "# find optimal threshold of distance\n",
    "ct_thres = np.linspace(0.5,20.5,41,endpoint=True)\n",
    "n = ct_thres.shape[0]\n",
    "\n",
    "auc = np.zeros(n)\n",
    "for i in range(n):\n",
    "    tp,fp = roc_curve(ct,di,ct_thres[i])\n",
    "    auc[i] = tp.sum()/tp.shape[0]  \n",
    "\n",
    "#np.savetxt('auc.dat',(ct_thres,auc),fmt='%f')"
   ]
  },
  {
   "cell_type": "code",
   "execution_count": null,
   "metadata": {},
   "outputs": [],
   "source": [
    "# plot at optimal threshold:\n",
    "i0 = np.argmax(auc)    \n",
    "print('auc max:',ct_thres[i0],auc[i0])\n",
    "tp0,fp0 = roc_curve(ct,di,ct_thres[i0])\n",
    "\n",
    "iplot = [1,3,5,7,9,11,13]\n",
    "plt.figure(figsize=(9.0,3.2))\n",
    "\n",
    "plt.subplot2grid((1,3),(0,0))\n",
    "plt.title('ROC various thres')\n",
    "plt.plot([0,1],[0,1],'k--')\n",
    "for i in iplot:\n",
    "    tp,fp = roc_curve(ct,di,ct_thres[i])    \n",
    "    plt.plot(fp,tp,label='thres = %s'%ct_thres[i])\n",
    "\n",
    "plt.xlim([0,1])\n",
    "plt.ylim([0,1])\n",
    "plt.xlabel('False Positive Rate')\n",
    "plt.ylabel('True Positive Rate')\n",
    "plt.legend()\n",
    "\n",
    "plt.subplot2grid((1,3),(0,1))\n",
    "plt.title('ROC at thres = %3.2f'%(ct_thres[i0]))\n",
    "plt.plot(fp0,tp0,'r-')\n",
    "plt.plot([0,1],[0,1],'k--')\n",
    "plt.xlim([0,1])\n",
    "plt.ylim([0,1])\n",
    "plt.xlabel('False Positive Rate')\n",
    "plt.ylabel('True Positive Rate')\n",
    "\n",
    "plt.subplot2grid((1,3),(0,2))\n",
    "plt.title('AUC max = %f' %(auc[i0]))\n",
    "plt.plot([ct_thres.min(),ct_thres.max()],[0.5,0.5],'k--')\n",
    "plt.plot(ct_thres,auc,'r-')\n",
    "plt.xlim([ct_thres.min(),ct_thres.max()])\n",
    "plt.ylim([0,auc.max()+0.1])\n",
    "plt.xlabel('distance threshold')\n",
    "plt.ylabel('AUC')\n",
    "\n",
    "plt.tight_layout(h_pad=1, w_pad=1.5)\n",
    "#plt.savefig('roc_curve.pdf', format='pdf', dpi=100)"
   ]
  },
  {
   "cell_type": "code",
   "execution_count": null,
   "metadata": {},
   "outputs": [],
   "source": [
    "np.savetxt('auc_DCA.txt',(ct_thres,auc),fmt='%f')"
   ]
  },
  {
   "cell_type": "code",
   "execution_count": null,
   "metadata": {},
   "outputs": [],
   "source": []
  }
 ],
 "metadata": {
  "kernelspec": {
   "display_name": "Python 3",
   "language": "python",
   "name": "python3"
  },
  "language_info": {
   "codemirror_mode": {
    "name": "ipython",
    "version": 3
   },
   "file_extension": ".py",
   "mimetype": "text/x-python",
   "name": "python",
   "nbconvert_exporter": "python",
   "pygments_lexer": "ipython3",
   "version": "3.7.3"
  }
 },
 "nbformat": 4,
 "nbformat_minor": 2
}
