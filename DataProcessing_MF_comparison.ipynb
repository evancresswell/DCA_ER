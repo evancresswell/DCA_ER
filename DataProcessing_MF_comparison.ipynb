{
 "cells": [
  {
   "cell_type": "code",
   "execution_count": 1,
   "id": "96cb2709",
   "metadata": {},
   "outputs": [],
   "source": [
    "import os.path, sys\n",
    "\n",
    "import numpy as np\n",
    "import pandas as pd\n",
    "from scipy import linalg\n",
    "from scipy.sparse import csr_matrix\n",
    "from sklearn.preprocessing import OneHotEncoder\n",
    "from scipy.spatial import distance_matrix\n",
    "\n",
    "import timeit\n",
    "#import emachine as EM\n",
    "\n",
    "# import data processing and general DCA_ER tools\n",
    "from pathlib import Path\n",
    "np.random.seed(1)\n",
    "\n",
    "\n"
   ]
  },
  {
   "cell_type": "code",
   "execution_count": 2,
   "id": "de027cc9",
   "metadata": {},
   "outputs": [],
   "source": [
    "data_path = Path('/data/cresswellclayec/DCA_ER/Pfam-A.full')\n",
    "data_path = Path('/data/cresswellclayec/Pfam-A.full')\n",
    "\n",
    "# Define data directories\n",
    "DCA_ER_dir = '/data/cresswellclayec/DCA_ER' # Set DCA_ER directory\n",
    "biowulf_dir = '%s/biowulf_full' % DCA_ER_dir\n",
    "\n",
    "\n",
    "out_dir = '%s/protein_data/di/' % biowulf_dir\n",
    "out_metric_dir = '%s/protein_data/metrics/' % biowulf_dir\n",
    "\n",
    "processed_data_dir = \"%s/protein_data/data_processing_output\" % biowulf_dir\n",
    "pdb_dir = '%s/protein_data/pdb_data/' % biowulf_dir\n",
    "\n",
    "\n",
    "pdb_path = \"/pdb/pdb/\"\n",
    "dir_path = \"/data/cresswellclayec/DCA_ER/biowulf_full/protein_data/di/\"\n",
    "ks_path = \"/data/cresswellclayec/DCA_ER/biowulf_full/protein_data/metrics/\"\n"
   ]
  },
  {
   "cell_type": "code",
   "execution_count": 3,
   "id": "f65f1bef",
   "metadata": {},
   "outputs": [
    {
     "name": "stdout",
     "output_type": "stream",
     "text": [
      "['4cch', '2a96', '3a3w', '7brn', '4als']\n",
      "['PF00476', 'PF01569', 'PF02126', 'PF02991', 'PF03067']\n",
      "DP files:  10170\n"
     ]
    }
   ],
   "source": [
    "PMF_di_files = list(Path(out_dir).rglob(\"*PMF*\"))\n",
    "PMF_di_files_str = [str(os.path.basename(path)) for path in PMF_di_files]\n",
    "PMF_pdb_ids = [di_str[:4] for di_str in PMF_di_files_str]\n",
    "PMF_pfam_ids = [di_str[5:12] for di_str in PMF_di_files_str]\n",
    "\n",
    "MF_di_files = list(Path(out_dir).rglob(\"*_MF*\"))\n",
    "MF_di_files_str = [str(os.path.basename(path)) for path in MF_di_files]\n",
    "MF_pdb_ids = [di_str[:4] for di_str in MF_di_files_str]\n",
    "MF_pfam_ids = [di_str[5:12] for di_str in MF_di_files_str]\n",
    "\n",
    "dp_files = list(Path(out_metric_dir).rglob(\"*_dp_*\"))\n",
    "dp_files_str = [str(os.path.basename(path)) for path in dp_files]\n",
    "dp_pdb_ids = [di_str[:4] for di_str in dp_files_str]\n",
    "dp_pfam_ids = [di_str[5:12] for di_str in dp_files_str]\n",
    "print(dp_pdb_ids[:5])\n",
    "print(dp_pfam_ids[:5])\n",
    "print('DP files: ',len(dp_pdb_ids))\n"
   ]
  },
  {
   "cell_type": "code",
   "execution_count": 4,
   "id": "f252d253",
   "metadata": {},
   "outputs": [
    {
     "name": "stdout",
     "output_type": "stream",
     "text": [
      "10546\n"
     ]
    }
   ],
   "source": [
    "# create dp comparison swarm file\n",
    "\n",
    "\n",
    "# get intersection of sets\n",
    "comparison_pdb_str_set = set.intersection(set(MF_pdb_ids), set(PMF_pdb_ids))\n",
    "#Generate MF-ROC swarm\n",
    "comparison_pdb_set = [pdb for pdb in comparison_pdb_str_set] # check that file doesent already exist\n",
    "comparison_pfam_set = [MF_pfam_ids[MF_pdb_ids.index(pdb)] for pdb in comparison_pdb_set]\n",
    "print(len(comparison_pdb_set))\n",
    "\n",
    "f = open('%s/data_processing_comparison.swarm' % biowulf_dir,'w')\n",
    "for i, pdb_id  in enumerate(comparison_pdb_set):    \n",
    "    pfam_id = comparison_pfam_set[i]\n",
    "    f.write('source /data/cresswellclayec/conda/etc/profile.d/conda.sh; ')\n",
    "    f.write('conda activate DCA_ER; ')\n",
    "    f.write('python run_dp_comparison.py %s %s $SLURM_CPUS_PER_TASK\\n'%(pdb_id, pfam_id))\n",
    "    #f.write('module load singularity; ')\n",
    "    #f.write('singularity exec -B /data/cresswellclayec/DCA_ER/biowulf/ /data/cresswellclayec/DCA_ER/dca_er.simg python 1main_ER.py %s\\n'%(pdb))\n",
    "f.close()"
   ]
  },
  {
   "cell_type": "code",
   "execution_count": 5,
   "id": "a1c7b566",
   "metadata": {},
   "outputs": [
    {
     "name": "stdout",
     "output_type": "stream",
     "text": [
      "{'MFvsPMF': [(0.15306122448979592, 3.22034831901863e-86), array([[-2.39181597]])]}\n"
     ]
    }
   ],
   "source": [
    "import pickle\n",
    "n_cols = []\n",
    "n_seqs = []\n",
    "mc = []\n",
    "ER_mc = []\n",
    "for i, pdb_id in enumerate(dp_pdb_ids):\n",
    "    pfam_id = dp_pfam_ids[i]\n",
    "    try:\n",
    "        compare_file = \"%s/%s_%s_dp_comparison.pkl\" % (out_metric_dir, pdb_id, pfam_id)\n",
    "        with open(compare_file, \"rb\") as f:\n",
    "            comparison = pickle.load(f)\n",
    "        f.close()\n",
    "        er_compare_file = \"%s/%s_%s_method_comparison.pkl\" % (out_metric_dir, pdb_id, pfam_id)\n",
    "        with open(er_compare_file, \"rb\") as f:\n",
    "            er_comparison = pickle.load(f)\n",
    "        f.close()\n",
    "        pfam_dimensions_file = \"%s/%s_%s_pfam_dimensions.npy\" % (processed_data_dir, pdb_id, pfam_id)\n",
    "        pfam_dimensions = np.load(pfam_dimensions_file)\n",
    "    except(FileNotFoundError):\n",
    "        continue\n",
    "        \n",
    "    if len(pfam_dimensions)==7:\n",
    "        [n_col, n_seq, m_eff, ct_ER, ct_MF, ct_PMF, ct_PLM] = pfam_dimensions\n",
    "    elif len(pfam_dimensions)==6: # new pfam_dimensions created in run_method_comparison. we dont need MF..\n",
    "        [n_col, n_seq, m_eff, ct_ER, ct_PMF, ct_PLM] = pfam_dimensions\n",
    "    elif len(pfam_dimensions)==3:\n",
    "        [n_col, n_seq, m_eff] = pfam_dimensions\n",
    "    n_cols.append(n_col)\n",
    "    n_seqs.append(n_seq)\n",
    "\n",
    "    mc.append(comparison)\n",
    "    ER_mc.append(er_comparison)\n",
    "\n",
    "print(mc[0])"
   ]
  },
  {
   "cell_type": "code",
   "execution_count": 6,
   "id": "67df5fdb",
   "metadata": {},
   "outputs": [
    {
     "name": "stdout",
     "output_type": "stream",
     "text": [
      "9510\n",
      "368\n",
      "9706\n",
      "172\n"
     ]
    }
   ],
   "source": [
    "c_alpha = {.2:1.073, .14:1.138, .1:1.224, .05:1.358, .025:1.48, .01:1.628, .005:1.731, .001:1.949}\n",
    "alpha = .001\n",
    "from scipy.special import comb\n",
    "\n",
    "\n",
    "# Since we only compare MF and PMF there is only one combo:.. MFvsPMF ..\n",
    "ks_combo = 'MFvsPMF'\n",
    "ER_combo = 'PMFvsPLM'\n",
    "\n",
    "ks_vals = []\n",
    "p_vals = []\n",
    "ks_vals_asympt = []\n",
    "p_vals_asympt = []\n",
    "z = []\n",
    "ks_clear = []\n",
    "er_ks_vals_asympt = []\n",
    "er_clear = []\n",
    "\n",
    "for i, ks in enumerate(mc):\n",
    "    er_ks = ER_mc[i]\n",
    "    \n",
    "    ks_crit = c_alpha[alpha] * np.sqrt(2*comb(n_cols[i],2) / comb(n_cols[i],2)**2)\n",
    "    try:\n",
    "        ks_vals.append(ks[ks_combo][0])\n",
    "        p_vals.append(ks[ks_combo][1])\n",
    "        ks_vals_asympt.append(ks[ks_combo][0][0])\n",
    "        p_vals_asympt.append(ks[ks_combo][0][1])\n",
    "        er_ks_vals_asympt.append(er_ks[ER_combo][0][0])\n",
    "    except(IndexError):\n",
    "        continue\n",
    "#     print(ks_vals[-1][0],ks_vals_asympt[-1])\n",
    "    \n",
    "    if ks_vals_asympt[-1] >= ks_crit:\n",
    "        ks_clear.append(True)\n",
    "    else:\n",
    "        ks_clear.append(False)\n",
    "        \n",
    "    if er_ks_vals_asympt[-1] >= ks_crit:\n",
    "        er_clear.append(True)\n",
    "    else:\n",
    "        er_clear.append(False)\n",
    "               \n",
    "\n",
    "ks_clear_vals = [ks for i, ks in enumerate(ks_vals_asympt) if ks_clear[i]] \n",
    "ks_Nclear_vals = [ks for i, ks in enumerate(ks_vals_asympt) if not ks_clear[i]] \n",
    "er_clear_vals = [ks for i, ks in enumerate(er_ks_vals_asympt) if er_clear[i]] \n",
    "er_Nclear_vals = [ks for i, ks in enumerate(er_ks_vals_asympt) if not er_clear[i]] \n",
    "\n",
    "print(len(ks_clear_vals))\n",
    "print(len(ks_Nclear_vals))\n",
    "\n",
    "print(len(er_clear_vals))\n",
    "print(len(er_Nclear_vals))"
   ]
  },
  {
   "cell_type": "code",
   "execution_count": 13,
   "id": "a0f37278",
   "metadata": {},
   "outputs": [
    {
     "data": {
      "image/png": "[encoded data removed]",
      "text/plain": [
       "<Figure size 360x360 with 1 Axes>"
      ]
     },
     "metadata": {
      "needs_background": "light"
     },
     "output_type": "display_data"
    }
   ],
   "source": [
    "import matplotlib.pyplot as plt\n",
    "plt.figure(figsize=(5.,5.))\n",
    "ax1=plt.subplot2grid((1,1), (0,0), colspan=1, rowspan=1)\n",
    "\n",
    "ax1.hist(er_ks_vals_asympt,bins=25,alpha=.3, label ='PLM vs PMF')  # density=False would make counts\n",
    "ax1.hist(er_ks_vals_asympt,bins=25,histtype='step', color='k', linewidth=1.4)  # density=False would make counts\n",
    "\n",
    "ax1.hist(ks_vals_asympt,bins=25,alpha=.3, label ='MF vs PMF')  # density=False would make counts\n",
    "ax1.hist(ks_vals_asympt,bins=25,histtype='step', color='k', linewidth=1.4)  # density=False would make counts\n",
    "\n",
    "\n",
    "plt.setp(ax1.get_xticklabels(),fontsize=14)\n",
    "plt.setp(ax1.get_yticklabels(),fontsize=14)\n",
    "ax1.set_xlabel('KS-Statistic', fontsize=14)\n",
    "ax1.set_ylabel('Comparison Count', fontsize=14)\n",
    "plt.legend()\n",
    "plt.tight_layout()\n",
    "\n",
    "plt.savefig('dp_ks_hist.pdf')\n",
    "plt.show()"
   ]
  },
  {
   "cell_type": "code",
   "execution_count": null,
   "id": "54414076",
   "metadata": {},
   "outputs": [],
   "source": []
  }
 ],
 "metadata": {
  "kernelspec": {
   "display_name": "Python 3 (ipykernel)",
   "language": "python",
   "name": "python3"
  },
  "language_info": {
   "codemirror_mode": {
    "name": "ipython",
    "version": 3
   },
   "file_extension": ".py",
   "mimetype": "text/x-python",
   "name": "python",
   "nbconvert_exporter": "python",
   "pygments_lexer": "ipython3",
   "version": "3.9.7"
  }
 },
 "nbformat": 4,
 "nbformat_minor": 5
}
